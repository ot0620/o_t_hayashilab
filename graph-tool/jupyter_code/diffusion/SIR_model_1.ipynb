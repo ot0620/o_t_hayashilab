{
 "cells": [
  {
   "cell_type": "code",
   "execution_count": 1,
   "id": "ed2add93",
   "metadata": {},
   "outputs": [],
   "source": [
    "import graph_tool.all as gt\n",
    "import numpy as np\n",
    "import numpy.random as rnd\n",
    "import pandas as pd\n",
    "import matplotlib.pyplot as plt\n",
    "import random\n",
    "from tqdm import tqdm"
   ]
  },
  {
   "cell_type": "markdown",
   "id": "a8f2affd",
   "metadata": {},
   "source": [
    "変数を設定\n",
    "\n",
    "・S：未感染者\n",
    "\n",
    "・I：感染者\n",
    "\n",
    "・R：免疫者"
   ]
  },
  {
   "cell_type": "code",
   "execution_count": 2,
   "id": "92b21a13",
   "metadata": {},
   "outputs": [],
   "source": [
    "S = 0\n",
    "I = 1\n",
    "R = -1"
   ]
  },
  {
   "cell_type": "markdown",
   "id": "f0d3bc8c",
   "metadata": {},
   "source": [
    "確率を設定\n",
    "\n",
    "・感染確率（S → I）：x\n",
    "\n",
    "・回復率（I → R）：r"
   ]
  },
  {
   "cell_type": "code",
   "execution_count": 3,
   "id": "f47c4ee0",
   "metadata": {},
   "outputs": [],
   "source": [
    "x = 0.1\n",
    "r = 0.1"
   ]
  },
  {
   "cell_type": "markdown",
   "id": "0064091c",
   "metadata": {},
   "source": [
    "SIRモデルの関数定義"
   ]
  },
  {
   "cell_type": "code",
   "execution_count": 4,
   "id": "2f0c3687",
   "metadata": {},
   "outputs": [],
   "source": [
    "def SIR():\n",
    "    # 全ノードをランダムに並べ替える\n",
    "    vs = list(G.vertices())\n",
    "    rnd.shuffle(vs)\n",
    "    # 並べ替えたノードリストを走査し状態更新を行う\n",
    "    for v in vs:\n",
    "        if state[v] == I:  # 状態が 'I' の場合\n",
    "            # 隣接ノードを取得\n",
    "            ns = list(v.out_neighbors())\n",
    "            for w in ns:\n",
    "                # 隣接ノードが 'S' 状態かどうかを確認し、確率 x で 'I' 状態に変更\n",
    "                if state[w] == S and rnd.random() < x:\n",
    "                    state[w] = I\n",
    "            # 状態が確率 r で 'R' 状態に変更\n",
    "            if rnd.random() < r:\n",
    "                state[v] = R\n",
    "    return"
   ]
  },
  {
   "cell_type": "markdown",
   "id": "6a7e53ff",
   "metadata": {},
   "source": [
    "例：BAモデルに対するSIRを行ってみる"
   ]
  },
  {
   "cell_type": "markdown",
   "id": "fc105050",
   "metadata": {},
   "source": [
    "Barabasi-Albertモデル"
   ]
  },
  {
   "cell_type": "code",
   "execution_count": 5,
   "id": "f424b1eb",
   "metadata": {},
   "outputs": [],
   "source": [
    "# SFネットワーク生成関数\n",
    "def ba(n, m, seed=None): \n",
    "    # 乱数生成のシードを設定可能\n",
    "    if seed is not None:\n",
    "        np.random.seed(seed=seed)\n",
    "    \n",
    "    m0 = m + 1  # 初期次数:m + 1\n",
    "    g = gt.Graph(m0,directed = False)  # 初期のスター型グラフを生成\n",
    "    g.add_edge_list([(0, i) for i in range(1, m0)])  # 初期のリンクの追加\n",
    "    initial_edges = list(g.edges()) # 初期のリンクの一覧を生成\n",
    "    node_list = list(range(m0)) #初期のノードの一覧を生成\n",
    "    \n",
    "    # ノードを追加し、リンクを次数に比例して追加していく\n",
    "    for i in range(m0, n):\n",
    "        g.add_vertex()  # ノードを追加\n",
    "        # 現在のネットワークの各ノードの次数を計算しk_array_before配列に保管\n",
    "        K_array_before = np.array([v.out_degree() for v in g.vertices() if v.out_degree() != 0])  # 次数の配列 全頂点の次数（次数が0のノードを除外）\n",
    "        \n",
    "#      -----------------------------\n",
    "        K_array = K_array_before**1\n",
    "#      -----------------------------\n",
    "        \n",
    "        for j in range(m):\n",
    "            # 次数に比例した確率ベクトルを生成\n",
    "            s = np.sum(K_array)\n",
    "            parray = K_array / s\n",
    "\n",
    "            # 次数に比例した確率で既存のノードを選び、エッジとする\n",
    "            new = np.random.choice(node_list, p=parray)\n",
    "            g.add_edge(g.vertex(i), g.vertex(new))\n",
    "            \n",
    "            K_array[node_list.index(new)] = 0.\n",
    "        \n",
    "        node_list.append(i)\n",
    "    \n",
    "    for edge in initial_edges:\n",
    "        g.remove_edge(edge)\n",
    "    return g"
   ]
  },
  {
   "cell_type": "markdown",
   "id": "b2e327dc",
   "metadata": {},
   "source": [
    "作成するネットワークの要素"
   ]
  },
  {
   "cell_type": "code",
   "execution_count": 6,
   "id": "54182aa4",
   "metadata": {},
   "outputs": [],
   "source": [
    "# ノード数\n",
    "n = 1000\n",
    "\n",
    "# 新規ノードが接続するノード数\n",
    "m = 2\n",
    "\n",
    "# 異なる構造のBAモデルをいくつ作る？\n",
    "num_samples = 10"
   ]
  },
  {
   "cell_type": "markdown",
   "id": "45c6d4ee",
   "metadata": {},
   "source": [
    "baグラフを作成"
   ]
  },
  {
   "cell_type": "code",
   "execution_count": 7,
   "id": "25242c53",
   "metadata": {},
   "outputs": [],
   "source": [
    "# BAネットワークを生成\n",
    "ba_graphs = []\n",
    "for _ in range(num_samples):\n",
    "    ba_g = ba(n, m)\n",
    "    ba_graphs.append(ba_g)"
   ]
  },
  {
   "cell_type": "markdown",
   "id": "d4c74803",
   "metadata": {},
   "source": [
    "シミュレーションの回数"
   ]
  },
  {
   "cell_type": "code",
   "execution_count": 8,
   "id": "e8f0f143",
   "metadata": {},
   "outputs": [],
   "source": [
    "# 何回感染シミュレーションを繰り返すのか？\n",
    "max_itr = 100\n",
    "\n",
    "# 1つのBAモデルに対して、一連の感染シミュレーションの平均を何回でとるのか？\n",
    "num_iterations = 10\n",
    "\n",
    "# 初期感染者の数と、取得する値の間隔を指定する\n",
    "v_change_range = range(100, 901, 100)"
   ]
  },
  {
   "cell_type": "markdown",
   "id": "c7f167f8",
   "metadata": {},
   "source": [
    "シミュレーション内容"
   ]
  },
  {
   "cell_type": "code",
   "execution_count": null,
   "id": "ff715390",
   "metadata": {},
   "outputs": [],
   "source": [
    "            # 状態初期化、ランダムに初期感染者を選ぶ場合\n",
    "            for v in G.vertices():\n",
    "                state[v] = S\n",
    "            nodes = list(G.vertices())\n",
    "            random.shuffle(nodes)\n",
    "            for v in nodes[:v_change]:\n",
    "                state[v] = I\n",
    "                \n",
    "            # 状態初期化、ノードの次数の高い順に初期感染者を選ぶ場合\n",
    "            for v in G.vertices():\n",
    "                state[v] = S\n",
    "            nodes = list(G.vertices())\n",
    "            nodes_degrees = [(v, G.vertex(v).in_degree() + G.vertex(v).out_degree()) for v in nodes]\n",
    "            nodes_sorted = [v for v, _ in sorted(nodes_degrees, key=lambda x: x[1], reverse=True)]\n",
    "            for v in nodes_sorted[:v_change]:\n",
    "                state[v] = I\n",
    "                \n",
    "            # 状態初期化、ノードの次数の低い順に初期感染者を選ぶ場合\n",
    "            for v in G.vertices():\n",
    "                state[v] = S\n",
    "            nodes = list(G.vertices())\n",
    "            nodes_degrees = [(v, G.vertex(v).in_degree() + G.vertex(v).out_degree()) for v in nodes]\n",
    "            nodes_sorted = [v for v, _ in sorted(nodes_degrees, key=lambda x: x[1])]\n",
    "            for v in nodes_sorted[:v_change]:\n",
    "                state[v] = I"
   ]
  },
  {
   "cell_type": "code",
   "execution_count": 9,
   "id": "4a4f4eee",
   "metadata": {
    "scrolled": true
   },
   "outputs": [
    {
     "name": "stderr",
     "output_type": "stream",
     "text": [
      "\r",
      "  0%|                                                                                                                                                                                | 0/9 [00:00<?, ?it/s]"
     ]
    },
    {
     "name": "stdout",
     "output_type": "stream",
     "text": [
      "v_change = 100開始\n"
     ]
    },
    {
     "name": "stderr",
     "output_type": "stream",
     "text": [
      "\r",
      " 11%|██████████████████▋                                                                                                                                                     | 1/9 [00:39<05:16, 39.55s/it]"
     ]
    },
    {
     "name": "stdout",
     "output_type": "stream",
     "text": [
      "シミュレーション完了\n",
      "v_change = 200開始\n"
     ]
    },
    {
     "name": "stderr",
     "output_type": "stream",
     "text": [
      "\r",
      " 22%|█████████████████████████████████████▎                                                                                                                                  | 2/9 [01:19<04:37, 39.59s/it]"
     ]
    },
    {
     "name": "stdout",
     "output_type": "stream",
     "text": [
      "シミュレーション完了\n",
      "v_change = 300開始\n"
     ]
    },
    {
     "name": "stderr",
     "output_type": "stream",
     "text": [
      "\r",
      " 33%|████████████████████████████████████████████████████████                                                                                                                | 3/9 [01:58<03:57, 39.58s/it]"
     ]
    },
    {
     "name": "stdout",
     "output_type": "stream",
     "text": [
      "シミュレーション完了\n",
      "v_change = 400開始\n"
     ]
    },
    {
     "name": "stderr",
     "output_type": "stream",
     "text": [
      "\r",
      " 44%|██████████████████████████████████████████████████████████████████████████▋                                                                                             | 4/9 [02:37<03:16, 39.33s/it]"
     ]
    },
    {
     "name": "stdout",
     "output_type": "stream",
     "text": [
      "シミュレーション完了\n",
      "v_change = 500開始\n"
     ]
    },
    {
     "name": "stderr",
     "output_type": "stream",
     "text": [
      "\r",
      " 56%|█████████████████████████████████████████████████████████████████████████████████████████████▎                                                                          | 5/9 [03:16<02:36, 39.11s/it]"
     ]
    },
    {
     "name": "stdout",
     "output_type": "stream",
     "text": [
      "シミュレーション完了\n",
      "v_change = 600開始\n"
     ]
    },
    {
     "name": "stderr",
     "output_type": "stream",
     "text": [
      "\r",
      " 67%|████████████████████████████████████████████████████████████████████████████████████████████████████████████████                                                        | 6/9 [03:55<01:57, 39.04s/it]"
     ]
    },
    {
     "name": "stdout",
     "output_type": "stream",
     "text": [
      "シミュレーション完了\n",
      "v_change = 700開始\n"
     ]
    },
    {
     "name": "stderr",
     "output_type": "stream",
     "text": [
      "\r",
      " 78%|██████████████████████████████████████████████████████████████████████████████████████████████████████████████████████████████████▋                                     | 7/9 [04:33<01:17, 38.84s/it]"
     ]
    },
    {
     "name": "stdout",
     "output_type": "stream",
     "text": [
      "シミュレーション完了\n",
      "v_change = 800開始\n"
     ]
    },
    {
     "name": "stderr",
     "output_type": "stream",
     "text": [
      "\r",
      " 89%|█████████████████████████████████████████████████████████████████████████████████████████████████████████████████████████████████████████████████████▎                  | 8/9 [05:12<00:38, 38.79s/it]"
     ]
    },
    {
     "name": "stdout",
     "output_type": "stream",
     "text": [
      "シミュレーション完了\n",
      "v_change = 900開始\n"
     ]
    },
    {
     "name": "stderr",
     "output_type": "stream",
     "text": [
      "100%|████████████████████████████████████████████████████████████████████████████████████████████████████████████████████████████████████████████████████████████████████████| 9/9 [05:51<00:00, 39.07s/it]"
     ]
    },
    {
     "name": "stdout",
     "output_type": "stream",
     "text": [
      "シミュレーション完了\n"
     ]
    },
    {
     "name": "stderr",
     "output_type": "stream",
     "text": [
      "\n"
     ]
    }
   ],
   "source": [
    "Result_R = []\n",
    "Result_time = []\n",
    "\n",
    "for v_change in tqdm(v_change_range):\n",
    "    print(f\"v_change = {v_change}開始\")\n",
    "    result_list = []\n",
    "    time_list = []\n",
    "    \n",
    "    for ba_model in ba_graphs:\n",
    "        S_avg = []\n",
    "        X_avg = []\n",
    "        R_avg = []\n",
    "        result = []\n",
    "        time = []\n",
    "        \n",
    "        # num_iterations分、平均をとる\n",
    "        for i in range(num_iterations):\n",
    "            G = ba_model\n",
    "            locals()[f'G{i}'] = G.copy()\n",
    "\n",
    "        for j in range(num_iterations):\n",
    "            G = locals()[f'G{j}']\n",
    "            state = G.new_vertex_property(\"int\")\n",
    "                \n",
    "            # 状態初期化、ノードの次数の高い順に初期感染者を選ぶ場合\n",
    "            for v in G.vertices():\n",
    "                state[v] = S\n",
    "            nodes = list(G.vertices())\n",
    "            nodes_degrees = [(v, G.vertex(v).in_degree() + G.vertex(v).out_degree()) for v in nodes]\n",
    "            nodes_sorted = [v for v, _ in sorted(nodes_degrees, key=lambda x: x[1], reverse=True)]\n",
    "            for v in nodes_sorted[:v_change]:\n",
    "                state[v] = I\n",
    "                \n",
    "            R_max = None\n",
    "            R_stop = None\n",
    "            suscept_st = []\n",
    "            infect_st = []\n",
    "            recov_st = []\n",
    "\n",
    "            suscept_st.append(list(state.a).count(S))\n",
    "            infect_st.append(list(state.a).count(I))\n",
    "            recov_st.append(list(state.a).count(R))\n",
    "\n",
    "            # シミュレーションの実行\n",
    "            for updt in range(max_itr):\n",
    "                SIR()\n",
    "                suscept_st.append(list(state.a).count(S))\n",
    "                infect_st.append(list(state.a).count(I))\n",
    "                recov_st.append(list(state.a).count(R))\n",
    "                \n",
    "                # 感染が停止した時の操作\n",
    "                if 0 in infect_st:\n",
    "                    i = infect_st.index(0)\n",
    "                    R_max = recov_st[i]\n",
    "                    R_stop = i\n",
    "                    result.append((R_max))\n",
    "                    time.append((R_stop))\n",
    "                    break\n",
    "                    \n",
    "        result_list.append(np.mean(result, axis=0))\n",
    "        time_list.append(np.mean(time, axis=0))\n",
    "    \n",
    "    RM = np.mean(result_list, axis=0)\n",
    "    RS = np.mean(time_list, axis=0)\n",
    "    Result_R.append(RM)\n",
    "    Result_time.append(RS)\n",
    "    print('シミュレーション完了')"
   ]
  },
  {
   "cell_type": "code",
   "execution_count": 10,
   "id": "4818475e",
   "metadata": {},
   "outputs": [
    {
     "data": {
      "image/png": "[encoded data removed]",
      "text/plain": [
       "<Figure size 800x600 with 1 Axes>"
      ]
     },
     "metadata": {},
     "output_type": "display_data"
    },
    {
     "data": {
      "image/png": "[encoded data removed]",
      "text/plain": [
       "<Figure size 800x600 with 1 Axes>"
      ]
     },
     "metadata": {},
     "output_type": "display_data"
    }
   ],
   "source": [
    "# Plotting Result_R\n",
    "plt.figure(figsize=(8, 6))\n",
    "plt.plot(v_change_range, Result_R, marker='o')\n",
    "plt.xlabel('v_change')\n",
    "plt.ylabel('Result_R')\n",
    "plt.title('BA_R-max')\n",
    "plt.grid(True)\n",
    "plt.show()\n",
    "\n",
    "# Plotting Result_time\n",
    "plt.figure(figsize=(8, 6))\n",
    "plt.plot(v_change_range, Result_time, marker='o')\n",
    "plt.xlabel('v_change')\n",
    "plt.ylabel('Result_time')\n",
    "plt.title('BA_Stop-time')\n",
    "plt.grid(True)\n",
    "plt.show()"
   ]
  },
  {
   "cell_type": "code",
   "execution_count": null,
   "id": "4722423a",
   "metadata": {},
   "outputs": [],
   "source": []
  }
 ],
 "metadata": {
  "kernelspec": {
   "display_name": "Python 3 (ipykernel)",
   "language": "python",
   "name": "python3"
  },
  "language_info": {
   "codemirror_mode": {
    "name": "ipython",
    "version": 3
   },
   "file_extension": ".py",
   "mimetype": "text/x-python",
   "name": "python",
   "nbconvert_exporter": "python",
   "pygments_lexer": "ipython3",
   "version": "3.11.3"
  }
 },
 "nbformat": 4,
 "nbformat_minor": 5
}
