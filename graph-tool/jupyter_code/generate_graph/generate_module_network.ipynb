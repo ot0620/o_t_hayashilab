{
 "cells": [
  {
   "cell_type": "code",
   "execution_count": 2,
   "id": "initial_id",
   "metadata": {
    "collapsed": true,
    "ExecuteTime": {
     "end_time": "2025-08-28T11:51:54.916719404Z",
     "start_time": "2025-08-28T11:51:54.901876332Z"
    }
   },
   "outputs": [],
   "source": [
    "from graph_tool.all import *\n",
    "import graph_tool.all as gt\n",
    "import numpy as np\n",
    "import random\n",
    "import os\n",
    "from tqdm import tqdm\n",
    "import matplotlib.pyplot as plt\n",
    "import pandas as pd"
   ]
  },
  {
   "cell_type": "code",
   "outputs": [],
   "source": [
    "# モジュール付きネットワーク生成関数\n",
    "def module_network(n, m, m0, beta, seed=None):\n",
    "\n",
    "    # 乱数生成のシードを設定可能\n",
    "    if seed is not None:\n",
    "        np.random.seed(seed=seed)\n",
    "\n",
    "    initial_nodes = m + 1  # 初期ノード数:m + 1\n",
    "\n",
    "    g = gt.complete_graph(initial_nodes, directed = False)  # 初期の完全グラフを生成\n",
    "\n",
    "    initial_edges = list(g.edges()) # 初期のリンクの一覧を生成\n",
    "\n",
    "    node_list = list(range(initial_nodes)) #初期のノードの一覧を生成\n",
    "\n",
    "    module_number = g.new_vertex_property(\"int\")  # モジュール番号を格納する新しいプロパティ\n",
    "    node_id_property = g.new_vertex_property(\"int\")  # ノードIDを格納する新しいプロパティ\n",
    "\n",
    "    # 初期ノードのNode_IDを手動で割り当てる\n",
    "    for i in range(initial_nodes):\n",
    "        node_id_property[g.vertex(i)] = i\n",
    "\n",
    "    node_id = initial_nodes - 1  # 次のノードID\n",
    "\n",
    "    # 新規ノードを追加し、リンクをべき乗の値を参照して追加していく\n",
    "    for i in range(initial_nodes, n):\n",
    "\n",
    "        # 現在のネットワークの各ノードの次数を計算しk_array_before配列に保管\n",
    "        K_array_before = np.array([v.out_degree() for v in g.vertices() if v.out_degree() != 0])  # 次数の配列 全頂点の次数（次数が0のノードを除外）\n",
    "\n",
    "        # べき乗の値によって、K_array_beforeの中身を再計算する\n",
    "        if beta == 0 or beta == 1:\n",
    "            K_array = K_array_before**beta\n",
    "        elif beta == 1/2:\n",
    "            K_array = np.sqrt(K_array_before)\n",
    "        else:\n",
    "            ipa = abs(beta)\n",
    "            K_array = 1 / np.power(K_array_before, ipa, dtype=np.float64)\n",
    "\n",
    "        g.add_vertex()  # 新規ノードを追加\n",
    "\n",
    "        for j in range(m):\n",
    "            # 次数に比例した確率ベクトルを生成\n",
    "            s = np.sum(K_array)\n",
    "            parray = K_array / s\n",
    "            parray /= np.sum(parray)  # 確率の合計を1.0に調整\n",
    "\n",
    "            # 次数に比例した確率で既存のノードを選び、エッジとする\n",
    "            cumulative_probs = np.cumsum(parray)\n",
    "            r = random.random()\n",
    "            new = node_list[np.searchsorted(cumulative_probs, r)]\n",
    "            g.add_edge(g.vertex(i), g.vertex(new))\n",
    "            \n",
    "            K_array_before[i] += 1\n",
    "            K_array_before[new] += 1\n",
    "\n",
    "            K_array[node_list.index(new)] = 0.\n",
    "\n",
    "        node_list.append(i)  # 新規ノードをノードリストに追加する\n",
    "        node_id += 1  # 新しいノードIDを割り当てる\n",
    "        node_id_property[g.vertex(i)] = node_id  # ノードIDをプロパティに格納\n",
    "\n",
    "    random.shuffle(node_list)  # ノードリスト内の要素をランダムに並び替えることで、モジュール番号がランダムに選ばれるようにする\n",
    "    nodes_per_module = n // m0  # 各モジュール毎に割り当てるノード数を求める\n",
    "\n",
    "    for node_index, node in enumerate(node_list):\n",
    "\n",
    "        assigned_module = (node_index // nodes_per_module) + 1  # 各ノードにモジュール番号を割り当てる\n",
    "        module_number[g.vertex(node)] = assigned_module  # 各ノードのモジュール番号をプロパティに格納する\n",
    "\n",
    "    g.vertex_properties[\"module_number\"] = module_number  # モジュール番号のプロパティを設定\n",
    "    g.vertex_properties[\"node_id\"] = node_id_property  # ノードIDのプロパティを設定\n",
    "\n",
    "    return g"
   ],
   "metadata": {
    "collapsed": false,
    "ExecuteTime": {
     "end_time": "2025-08-28T11:51:55.930752794Z",
     "start_time": "2025-08-28T11:51:55.909734890Z"
    }
   },
   "id": "9fd53d137abcc74e",
   "execution_count": 3
  },
  {
   "cell_type": "code",
   "outputs": [],
   "source": [
    "#チェーン構造を解消するためのリワイヤリングコード\n",
    "def rewire_network(g, rewiring_times):\n",
    "    #print(\"random_rewire開始\")\n",
    "    gt.random_rewire(g, model = \"configuration\", n_iter = rewiring_times, edge_sweep=True)\n",
    "    #print(\"random_rewire終了\")\n",
    "    return g\n",
    "\n",
    "# Define function to check sum_u\n",
    "def check_sum_u(g, target_sum):\n",
    "    l = gt.label_largest_component(g)\n",
    "    u = gt.GraphView(g, vfilt=l)\n",
    "    sum_u = u.num_vertices()\n",
    "    return sum_u == target_sum"
   ],
   "metadata": {
    "collapsed": false,
    "ExecuteTime": {
     "end_time": "2025-08-28T11:51:57.923429809Z",
     "start_time": "2025-08-28T11:51:57.917022310Z"
    }
   },
   "id": "91f163e415cc2df0",
   "execution_count": 4
  },
  {
   "cell_type": "code",
   "outputs": [],
   "source": [
    "Node = 10000\n",
    "\n",
    "m = 2\n",
    "\n",
    "times = 100\n",
    "\n",
    "M_list = [5,10,20,50,100,200]\n",
    "\n",
    "beta_list = [1,1/2,0,-1,-3,-5,-10,-100]"
   ],
   "metadata": {
    "collapsed": false,
    "ExecuteTime": {
     "end_time": "2025-08-28T11:51:58.272543947Z",
     "start_time": "2025-08-28T11:51:58.267349064Z"
    }
   },
   "id": "9b12bc3943fac729",
   "execution_count": 5
  },
  {
   "cell_type": "code",
   "outputs": [
    {
     "ename": "NameError",
     "evalue": "name 'M_list' is not defined",
     "output_type": "error",
     "traceback": [
      "\u001B[0;31m---------------------------------------------------------------------------\u001B[0m",
      "\u001B[0;31mNameError\u001B[0m                                 Traceback (most recent call last)",
      "Cell \u001B[0;32mIn[1], line 1\u001B[0m\n\u001B[0;32m----> 1\u001B[0m \u001B[38;5;28;01mfor\u001B[39;00m M \u001B[38;5;129;01min\u001B[39;00m \u001B[43mM_list\u001B[49m:\n\u001B[1;32m      2\u001B[0m     \u001B[38;5;28;01mfor\u001B[39;00m beta \u001B[38;5;129;01min\u001B[39;00m beta_list:\n\u001B[1;32m      3\u001B[0m         graphs \u001B[38;5;241m=\u001B[39m []\n",
      "\u001B[0;31mNameError\u001B[0m: name 'M_list' is not defined"
     ]
    }
   ],
   "source": [
    "for M in M_list:\n",
    "    for beta in beta_list:\n",
    "        graphs = []\n",
    "        for _ in tqdm(range(times)):\n",
    "            while True:\n",
    "                g = module_network(Node, m, M, beta, seed=None)\n",
    "                g = rewire_network(g, Node)\n",
    "                if check_sum_u(g, Node):  # 条件を満たしたらループ脱出\n",
    "                    break\n",
    "            graphs.append(g)\n",
    "\n",
    "        # 保存先ディレクトリを作成\n",
    "        directory = f\"~/o_t_hayashilab/Network_data/graph-tool/modular_network/N={Node}/beta={beta}/w=0.00/Mo={M}\"\n",
    "        directory = os.path.expanduser(directory)\n",
    "        os.makedirs(directory, exist_ok=True)\n",
    "\n",
    "        # グラフを保存\n",
    "        for i, graph in enumerate(graphs):\n",
    "            g = graphs\n",
    "            filename = os.path.join(directory, f\"{i}.gt.gz\")\n",
    "            g.save(filename)"
   ],
   "metadata": {
    "collapsed": false,
    "ExecuteTime": {
     "end_time": "2025-08-28T11:56:57.248124080Z",
     "start_time": "2025-08-28T11:56:57.170954680Z"
    }
   },
   "id": "154c57a02b8eb505",
   "execution_count": 1
  }
 ],
 "metadata": {
  "kernelspec": {
   "display_name": "Python 3",
   "language": "python",
   "name": "python3"
  },
  "language_info": {
   "codemirror_mode": {
    "name": "ipython",
    "version": 2
   },
   "file_extension": ".py",
   "mimetype": "text/x-python",
   "name": "python",
   "nbconvert_exporter": "python",
   "pygments_lexer": "ipython2",
   "version": "2.7.6"
  }
 },
 "nbformat": 4,
 "nbformat_minor": 5
}
