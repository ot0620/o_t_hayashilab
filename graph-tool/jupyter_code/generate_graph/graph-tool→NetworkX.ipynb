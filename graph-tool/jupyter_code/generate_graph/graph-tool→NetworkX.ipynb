{
 "cells": [
  {
   "cell_type": "code",
   "outputs": [],
   "source": [
    "import graph_tool.all as gt\n",
    "import networkx as nx\n",
    "import os\n",
    "import matplotlib.pyplot as plt"
   ],
   "metadata": {
    "collapsed": false
   },
   "id": "6d4b62d68242cde",
   "execution_count": null
  },
  {
   "cell_type": "code",
   "outputs": [],
   "source": [
    "Node = 10000\n",
    "\n",
    "m = 2\n",
    "\n",
    "times = 100\n",
    "\n",
    "beta_list = [1,1/2,0,-1,-5,-100]\n",
    "\n",
    "net_list = [\"SF\", \"Cutoff\", \"RA\", \"IPA_beta1\", \"IPA_beta5\", \"IPA_beta100\"]"
   ],
   "metadata": {
    "collapsed": false
   },
   "id": "8c73507cee325632",
   "execution_count": null
  },
  {
   "cell_type": "code",
   "outputs": [],
   "source": [
    "for net in net_list:\n",
    "    for i in range(times):\n",
    "        # graph-toolのグラフを読み込む\n",
    "        g = gt.load_graph(f\"~/o_t_hayashilab/Ogawa_Network/N={Node}/{net}/{i}.gt.gz\")\n",
    "\n",
    "        # networkxのグラフオブジェクトを作成\n",
    "        G = nx.Graph()\n",
    "        \n",
    "        # graph-toolのノードをnetworkxのノードに追加\n",
    "        node_map = {}  # graph-toolのノードとnetworkxのノードの対応を保持する辞書\n",
    "        for node_gt in g.vertices():\n",
    "            node_map[node_gt] = int(node_gt) + 1  # node_gtをそのまま使うのではなく、intに変換して使用\n",
    "        \n",
    "        for node in node_map.values():\n",
    "            G.add_node(node)\n",
    "\n",
    "        # graph-toolのエッジをnetworkxのエッジに追加\n",
    "        for edge_gt in g.edges():\n",
    "            node_u = node_map[edge_gt.source()]\n",
    "            node_v = node_map[edge_gt.target()]\n",
    "            G.add_edge(node_u, node_v)\n",
    "        \n",
    "        # 出力ディレクトリを作成\n",
    "        output_dir = os.path.expanduser(f\"~/o_t_hayashilab/Ogawa_Network/NetworkX/N={Node}/{net}\")\n",
    "        os.makedirs(output_dir, exist_ok=True)\n",
    "\n",
    "        # networkxのグラフを.netファイル形式で保存\n",
    "        output_path = os.path.join(output_dir, f\"{i}.net\")\n",
    "        \n",
    "        with open(output_path, 'w') as f:\n",
    "            f.write(f\"*Vertices {G.number_of_nodes()}\\n\")\n",
    "            f.write(\"*Edges\\n\")\n",
    "            for edge in G.edges():\n",
    "                f.write(f\"{edge[0]} {edge[1]}\\n\")"
   ],
   "metadata": {
    "collapsed": true
   },
   "id": "initial_id",
   "execution_count": null
  },
  {
   "cell_type": "code",
   "outputs": [],
   "source": [
    "# 可視化するためのnetファイルのパスを指定\n",
    "net_file = os.path.expanduser(f\"~/o_t_hayashilab/Ogawa_Network/NetworkX/N={Node}/{net_list[0]}/0.net\")\n",
    "\n",
    "# networkxのグラフを.netファイルから読み込み\n",
    "with open(net_file, 'r') as f:\n",
    "    lines = f.readlines()\n",
    "\n",
    "# ノードとエッジのリストを作成\n",
    "nodes = []\n",
    "edges = []\n",
    "in_edges_section = False\n",
    "\n",
    "for line in lines:\n",
    "    if line.startswith('*Vertices'):\n",
    "        continue\n",
    "    elif line.startswith('*Edges'):\n",
    "        in_edges_section = True\n",
    "        continue\n",
    "    \n",
    "    if in_edges_section:\n",
    "        edge = line.split()\n",
    "        if len(edge) == 2:\n",
    "            edges.append((int(edge[0]), int(edge[1])))\n",
    "    else:\n",
    "        node = line.split()[0]\n",
    "        nodes.append(int(node))\n",
    "\n",
    "# NetworkXグラフを作成\n",
    "G = nx.Graph()\n",
    "G.add_nodes_from(nodes)\n",
    "G.add_edges_from(edges)\n",
    "\n",
    "# グラフの可視化\n",
    "plt.figure(figsize=(8, 8))\n",
    "pos = nx.spring_layout(G)  # レイアウトの指定\n",
    "nx.draw(G, pos, with_labels=True, node_size=400, node_color=\"lightblue\", font_size=10, font_weight=\"bold\")\n",
    "plt.show()"
   ],
   "metadata": {
    "collapsed": false
   },
   "id": "a50e1ade91bc66e8",
   "execution_count": null
  }
 ],
 "metadata": {
  "kernelspec": {
   "display_name": "Python 3",
   "language": "python",
   "name": "python3"
  },
  "language_info": {
   "codemirror_mode": {
    "name": "ipython",
    "version": 2
   },
   "file_extension": ".py",
   "mimetype": "text/x-python",
   "name": "python",
   "nbconvert_exporter": "python",
   "pygments_lexer": "ipython2",
   "version": "2.7.6"
  }
 },
 "nbformat": 4,
 "nbformat_minor": 5
}
