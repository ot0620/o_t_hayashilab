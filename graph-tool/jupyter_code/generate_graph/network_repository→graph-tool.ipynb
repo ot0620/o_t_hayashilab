{
 "cells": [
  {
   "cell_type": "code",
   "execution_count": null,
   "metadata": {},
   "outputs": [],
   "source": [
    "import networkx as nx\n",
    "from scipy.io import mmread\n",
    "import matplotlib.pyplot as plt"
   ]
  },
  {
   "cell_type": "code",
   "execution_count": null,
   "metadata": {},
   "outputs": [],
   "source": [
    "# MatrixMarketファイルを読み込む\n",
    "mtx_file = \"path/file_name.mtx\"  # ファイル名を指定\n",
    "mtx_data = mmread(mtx_file)\n",
    "\n",
    "# NetworkXグラフに変換\n",
    "G = nx.from_scipy_sparse_array(mtx_data)\n",
    "\n",
    "# グラフを保存\n",
    "output_file = \"file_name.gml\"\n",
    "nx.write_gml(G, f\"/path/{output_file}\")\n",
    "\n",
    "print(f\"Graph saved as {output_file}\")"
   ]
  },
  {
   "cell_type": "code",
   "execution_count": null,
   "metadata": {},
   "outputs": [],
   "source": [
    "#### 例 ####\n",
    "\n",
    "import networkx as nx\n",
    "import graph_tool.all as gt\n",
    "\n",
    "# graph-toolのグラフオブジェクトを作成\n",
    "g = gt.Graph(directed=False)\n",
    "\n",
    "# networkxのノードをgraph-toolのノードに追加\n",
    "node_map = {}  # networkxのノードとgraph-toolのノードの対応を保持する辞書\n",
    "for node_nx in G.nodes():\n",
    "    node_gt = g.add_vertex()\n",
    "    node_map[node_nx] = node_gt\n",
    "\n",
    "# networkxのエッジをgraph-toolのエッジに追加\n",
    "for edge_nx in G.edges():\n",
    "    node_u = node_map[edge_nx[0]]\n",
    "    node_v = node_map[edge_nx[1]]\n",
    "    g.add_edge(node_u, node_v)\n",
    "\n",
    "# グラフを描画して確認\n",
    "gt.graph_draw(g, output_size=(300, 300))\n",
    "\n",
    "output_graph = \"file_name.gt.gz\"\n",
    "g.save(f\"/path/{output_graph}\")"
   ]
  }
 ],
 "metadata": {
  "kernelspec": {
   "display_name": "gt",
   "language": "python",
   "name": "python3"
  },
  "language_info": {
   "codemirror_mode": {
    "name": "ipython",
    "version": 3
   },
   "file_extension": ".py",
   "mimetype": "text/x-python",
   "name": "python",
   "nbconvert_exporter": "python",
   "pygments_lexer": "ipython3",
   "version": "3.12.1"
  },
  "orig_nbformat": 4
 },
 "nbformat": 4,
 "nbformat_minor": 2
}
