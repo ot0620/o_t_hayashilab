{
 "cells": [
  {
   "cell_type": "code",
   "execution_count": null,
   "id": "initial_id",
   "metadata": {
    "collapsed": true
   },
   "outputs": [],
   "source": [
    "from graph_tool.all import *\n",
    "import graph_tool.all as gt\n",
    "import numpy as np"
   ]
  },
  {
   "cell_type": "code",
   "outputs": [],
   "source": [
    "Node = 10000\n",
    "\n",
    "m = 2\n",
    "\n",
    "beta_list = [1,1/2,0,-1,-3,-5,-100]\n",
    "\n",
    "times = 100"
   ],
   "metadata": {
    "collapsed": false
   },
   "id": "8b2491997fb480f1",
   "execution_count": null
  },
  {
   "cell_type": "code",
   "outputs": [],
   "source": [
    "for beta in beta_list:\n",
    "    cluster_list = []\n",
    "    for i in range(times):\n",
    "        g = load_graph(f\"~/o_t_hayashilab/Network_data/graph-tool/pure_pk/N={Node}/m={m}/beta={beta}/{i}.gt.gz\")\n",
    "\n",
    "        c_global = gt.global_clustering(g)\n",
    "\n",
    "        cluster_list.append(c_global)\n",
    "\n",
    "    c = np.mean(cluster_list)\n",
    "\n",
    "    print(f\"ν = {beta} のクラスタリング係数：{c:.3e}\")"
   ],
   "metadata": {
    "collapsed": false
   },
   "id": "c6fd35383c7fc4bf",
   "execution_count": null
  },
  {
   "cell_type": "code",
   "outputs": [],
   "source": [
    "Node = 10000\n",
    "\n",
    "m = 4\n",
    "\n",
    "beta_list = [1,1/2,0,-1,-3,-5,-100]\n",
    "\n",
    "times = 100\n",
    "\n",
    "for beta in beta_list:\n",
    "    cluster_list = []\n",
    "    for i in range(times):\n",
    "        g = load_graph(f\"~/o_t_hayashilab/Network_data/graph-tool/pure_pk/N={Node}/m={m}/beta={beta}/{i}.gt.gz\")\n",
    "\n",
    "        c_global = gt.global_clustering(g)\n",
    "\n",
    "        cluster_list.append(c_global)\n",
    "\n",
    "    c = np.mean(cluster_list)\n",
    "\n",
    "    print(f\"ν = {beta} のクラスタリング係数：{c:.3e}\")"
   ],
   "metadata": {
    "collapsed": false
   },
   "id": "56433208afe1bc46",
   "execution_count": null
  },
  {
   "cell_type": "code",
   "outputs": [],
   "source": [
    "import matplotlib.pyplot as plt\n",
    "import numpy as np\n",
    "import graph_tool.all as gt\n",
    "\n",
    "Node = 100\n",
    "m = 2\n",
    "beta_list = [1, 1/2, 0, -1, -3, -5, -100]\n",
    "times = 100\n",
    "\n",
    "mean_values = []  # クラスタリング係数の平均値\n",
    "std_values = []   # クラスタリング係数の標準偏差\n",
    "\n",
    "for beta in beta_list:\n",
    "    cluster_list = []\n",
    "    for i in range(times):\n",
    "        g = gt.load_graph(f\"~/o_t_hayashilab/Network_data/graph-tool/pure_pk/N={Node}/m={m}/beta={beta}/{i}.gt.gz\")\n",
    "\n",
    "        c_global = gt.global_clustering(g)\n",
    "\n",
    "        cluster_list.append(c_global)\n",
    "\n",
    "    mean_c = np.mean(cluster_list)  # 平均値\n",
    "    std_c = np.std(cluster_list)    # 標準偏差（ばらつき）\n",
    "\n",
    "    mean_values.append(mean_c)\n",
    "    std_values.append(std_c)\n",
    "\n",
    "    print(f\"ν = {beta} のクラスタリング係数: {mean_c:.3e} ± {std_c:.3e}\")\n",
    "\n",
    "# プロット\n",
    "plt.figure(figsize=(8, 6))\n",
    "plt.errorbar(range(len(beta_list)), mean_values, yerr=std_values, fmt='o', capsize=5, color='b', label='Clustering Coefficient')\n",
    "\n",
    "# x軸ラベルをbeta_listの値にする\n",
    "plt.xticks(range(len(beta_list)), labels=[str(beta) for beta in beta_list], fontsize=12)\n",
    "\n",
    "# 軸ラベル\n",
    "plt.xlabel(\"ν (beta)\", fontsize=14)\n",
    "plt.ylabel(\"Clustering Coefficient\", fontsize=14)\n",
    "\n",
    "# グリッド追加\n",
    "plt.grid(False)\n",
    "\n",
    "# 凡例\n",
    "plt.legend()\n",
    "\n",
    "# 表示\n",
    "plt.show()"
   ],
   "metadata": {
    "collapsed": false
   },
   "id": "3553c4ad9d525166",
   "execution_count": null
  }
 ],
 "metadata": {
  "kernelspec": {
   "display_name": "Python 3",
   "language": "python",
   "name": "python3"
  },
  "language_info": {
   "codemirror_mode": {
    "name": "ipython",
    "version": 2
   },
   "file_extension": ".py",
   "mimetype": "text/x-python",
   "name": "python",
   "nbconvert_exporter": "python",
   "pygments_lexer": "ipython2",
   "version": "2.7.6"
  }
 },
 "nbformat": 4,
 "nbformat_minor": 5
}
