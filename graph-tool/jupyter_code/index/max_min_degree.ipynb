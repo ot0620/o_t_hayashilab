{
 "cells": [
  {
   "cell_type": "code",
   "execution_count": null,
   "id": "initial_id",
   "metadata": {
    "collapsed": true
   },
   "outputs": [],
   "source": [
    "from graph_tool.all import *\n",
    "import graph_tool.all as gt\n",
    "import numpy as np\n",
    "import random\n",
    "import os\n",
    "from tqdm import tqdm"
   ]
  },
  {
   "cell_type": "code",
   "outputs": [],
   "source": [
    "Node = 10000\n",
    "\n",
    "m = 2\n",
    "\n",
    "times = 20\n",
    "\n",
    "#beta_list = [1, 1/2, 0,-1,-3,-5,-10,-20,-50,-100]\n",
    "beta_list =[1]"
   ],
   "metadata": {
    "collapsed": false
   },
   "id": "8a9a806645008757",
   "execution_count": null
  },
  {
   "cell_type": "code",
   "outputs": [],
   "source": [
    "for beta in beta_list:\n",
    "    for i in range(times):\n",
    "        g = load_graph(f\"~/o_t_hayashilab/Network_data/graph-tool/pure_pk/N={Node}/m={m}/beta={beta}/{i}.gt.gz\")\n",
    "\n",
    "        degrees = g.get_out_degrees(g.get_vertices())\n",
    "\n",
    "        max_degree = np.max(degrees)\n",
    "        min_degree = np.min(degrees)\n",
    "\n",
    "        print(f\"最小次数は{min_degree}です。\")\n",
    "        print(f\"最大次数は{max_degree}です。\")"
   ],
   "metadata": {
    "collapsed": false
   },
   "id": "43e632a63c36d34d",
   "execution_count": null
  }
 ],
 "metadata": {
  "kernelspec": {
   "display_name": "Python 3",
   "language": "python",
   "name": "python3"
  },
  "language_info": {
   "codemirror_mode": {
    "name": "ipython",
    "version": 2
   },
   "file_extension": ".py",
   "mimetype": "text/x-python",
   "name": "python",
   "nbconvert_exporter": "python",
   "pygments_lexer": "ipython2",
   "version": "2.7.6"
  }
 },
 "nbformat": 4,
 "nbformat_minor": 5
}
