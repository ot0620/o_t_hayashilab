{
 "cells": [
  {
   "cell_type": "code",
   "execution_count": 1,
   "metadata": {},
   "outputs": [],
   "source": [
    "from graph_tool.all import Graph\n",
    "\n",
    "from graph_tool.all import *\n",
    "import graph_tool.all as gt"
   ]
  },
  {
   "cell_type": "code",
   "execution_count": 2,
   "metadata": {},
   "outputs": [],
   "source": [
    "def is_valid_path(path, graph):\n",
    "    \"\"\"経路が条件を満たすか確認する関数\"\"\"\n",
    "    # 1. 6回の移動か？\n",
    "    if len(path) != 7:  # 出発点含め7ノードを通る（移動回数6）\n",
    "        return False\n",
    "\n",
    "    # 2. 出発点に戻っているか？\n",
    "    if path[0] != path[-1]:\n",
    "        return False\n",
    "\n",
    "    # 3. 全ての辺を少なくとも1回通るか？\n",
    "    edges = set()\n",
    "    for i in range(len(path) - 1):\n",
    "        edge = tuple(sorted([path[i], path[i + 1]]))\n",
    "        edges.add(edge)\n",
    "\n",
    "    # graph-tool のグラフから全ての辺を取得\n",
    "    all_edges = set(\n",
    "        tuple(sorted((str(e.source()), str(e.target()))))\n",
    "        for e in graph.edges()\n",
    "    )\n",
    "    return edges == all_edges\n",
    "\n",
    "def find_all_paths(graph, start, length):\n",
    "    \"\"\"指定長さの全パスを探索\"\"\"\n",
    "    paths = []\n",
    "\n",
    "    def dfs(current, path):\n",
    "        if len(path) == length + 1:  # 出発点含め\n",
    "            if path[0] == path[-1] and is_valid_path(path, graph):\n",
    "                paths.append(path)\n",
    "            return\n",
    "        \n",
    "        for neighbor in graph.vertex(int(current)).out_neighbors():\n",
    "            dfs(str(neighbor), path + [str(neighbor)])\n",
    "    \n",
    "    dfs(start, [start])\n",
    "    return paths"
   ]
  },
  {
   "cell_type": "markdown",
   "metadata": {},
   "source": [
    "グラフの作成"
   ]
  },
  {
   "cell_type": "code",
   "execution_count": 3,
   "metadata": {},
   "outputs": [
    {
     "name": "stdout",
     "output_type": "stream",
     "text": [
      "グラフを 'graph_example.gt' に保存しました。\n"
     ]
    }
   ],
   "source": [
    "# グラフの作成 (graph-tool を使用)\n",
    "g = Graph(directed=False)\n",
    "v_a = g.add_vertex()\n",
    "v_b = g.add_vertex()\n",
    "v_c = g.add_vertex()\n",
    "\n",
    "g.add_edge(v_a, v_b)\n",
    "g.add_edge(v_b, v_c)\n",
    "g.add_edge(v_c, v_a)\n",
    "\n",
    "# ファイルに保存 (ここでは \"graph_example.gt\" として保存)\n",
    "g.save(\"/home/guest/o_t_hayashilab/Network_data/graph-tool/example_network/graph_example.gt\")\n",
    "print(\"グラフを 'graph_example.gt' に保存しました。\")"
   ]
  },
  {
   "cell_type": "code",
   "execution_count": 4,
   "metadata": {},
   "outputs": [
    {
     "name": "stdout",
     "output_type": "stream",
     "text": [
      "条件を満たす経路の総数: 24\n",
      "0 -> 1 -> 2 -> 0 -> 1 -> 2 -> 0\n",
      "0 -> 1 -> 2 -> 0 -> 2 -> 1 -> 0\n",
      "0 -> 1 -> 2 -> 1 -> 0 -> 2 -> 0\n",
      "0 -> 1 -> 0 -> 2 -> 1 -> 2 -> 0\n",
      "0 -> 2 -> 0 -> 1 -> 2 -> 1 -> 0\n",
      "0 -> 2 -> 1 -> 2 -> 0 -> 1 -> 0\n",
      "0 -> 2 -> 1 -> 0 -> 1 -> 2 -> 0\n",
      "0 -> 2 -> 1 -> 0 -> 2 -> 1 -> 0\n",
      "1 -> 2 -> 0 -> 1 -> 2 -> 0 -> 1\n",
      "1 -> 2 -> 0 -> 1 -> 0 -> 2 -> 1\n",
      "1 -> 2 -> 0 -> 2 -> 1 -> 0 -> 1\n",
      "1 -> 2 -> 1 -> 0 -> 2 -> 0 -> 1\n",
      "1 -> 0 -> 1 -> 2 -> 0 -> 2 -> 1\n",
      "1 -> 0 -> 2 -> 0 -> 1 -> 2 -> 1\n",
      "1 -> 0 -> 2 -> 1 -> 2 -> 0 -> 1\n",
      "1 -> 0 -> 2 -> 1 -> 0 -> 2 -> 1\n",
      "2 -> 0 -> 1 -> 2 -> 0 -> 1 -> 2\n",
      "2 -> 0 -> 1 -> 2 -> 1 -> 0 -> 2\n",
      "2 -> 0 -> 1 -> 0 -> 2 -> 1 -> 2\n",
      "2 -> 0 -> 2 -> 1 -> 0 -> 1 -> 2\n",
      "2 -> 1 -> 2 -> 0 -> 1 -> 0 -> 2\n",
      "2 -> 1 -> 0 -> 1 -> 2 -> 0 -> 2\n",
      "2 -> 1 -> 0 -> 2 -> 0 -> 1 -> 2\n",
      "2 -> 1 -> 0 -> 2 -> 1 -> 0 -> 2\n"
     ]
    }
   ],
   "source": [
    "g = load_graph(\"/home/guest/o_t_hayashilab/Network_data/graph-tool/example_network/graph_example.gt\")\n",
    "# ノードラベルを設定\n",
    "vertex_labels = {v: str(i) for i, v in enumerate(g.vertices())}\n",
    "\n",
    "# 全ノードをスタート地点として探索\n",
    "all_paths = []\n",
    "for start_node in vertex_labels.values():\n",
    "    all_paths.extend(find_all_paths(g, start_node, 6))\n",
    "\n",
    "# 結果の出力\n",
    "print(f\"条件を満たす経路の総数: {len(all_paths)}\")\n",
    "for path in all_paths:\n",
    "    print(\" -> \".join(path))"
   ]
  },
  {
   "cell_type": "code",
   "execution_count": null,
   "metadata": {},
   "outputs": [],
   "source": []
  }
 ],
 "metadata": {
  "kernelspec": {
   "display_name": "gt",
   "language": "python",
   "name": "python3"
  },
  "language_info": {
   "codemirror_mode": {
    "name": "ipython",
    "version": 3
   },
   "file_extension": ".py",
   "mimetype": "text/x-python",
   "name": "python",
   "nbconvert_exporter": "python",
   "pygments_lexer": "ipython3",
   "version": "3.12.1"
  },
  "orig_nbformat": 4
 },
 "nbformat": 4,
 "nbformat_minor": 2
}
