{
 "cells": [
  {
   "cell_type": "code",
   "execution_count": 1,
   "metadata": {},
   "outputs": [],
   "source": [
    "from itertools import permutations"
   ]
  },
  {
   "cell_type": "code",
   "execution_count": 2,
   "metadata": {},
   "outputs": [],
   "source": [
    "def is_valid_path(path, graph):\n",
    "    \"\"\"経路が条件を満たすか確認する関数\"\"\"\n",
    "    # 1. 6回の移動か？\n",
    "    if len(path) != 7:  # 出発点含め7ノードを通る（移動回数6）\n",
    "        return False\n",
    "\n",
    "    # 2. 出発点に戻っているか？\n",
    "    if path[0] != path[-1]:\n",
    "        return False\n",
    "\n",
    "    # 3. 全ての辺を少なくとも1回通るか？\n",
    "    edges = set()\n",
    "    for i in range(len(path) - 1):\n",
    "        edge = tuple(sorted([path[i], path[i + 1]]))\n",
    "        if edge not in edges:\n",
    "            edges.add(edge)\n",
    "\n",
    "    all_edges = set((min(n1, n2), max(n1, n2)) for n1 in graph for n2 in graph[n1])\n",
    "    return edges == all_edges\n",
    "\n",
    "def find_all_paths(graph, start, length):\n",
    "    \"\"\"指定長さの全パスを探索\"\"\"\n",
    "    paths = []\n",
    "\n",
    "    def dfs(current, path):\n",
    "        if len(path) == length + 1:  # 出発点含め\n",
    "            if path[0] == path[-1] and is_valid_path(path, graph):\n",
    "                paths.append(path)\n",
    "            return\n",
    "        \n",
    "        for neighbor in graph[current]:\n",
    "            dfs(neighbor, path + [neighbor])\n",
    "    \n",
    "    dfs(start, [start])\n",
    "    return paths"
   ]
  },
  {
   "cell_type": "markdown",
   "metadata": {},
   "source": [
    "グラフの作成"
   ]
  },
  {
   "cell_type": "code",
   "execution_count": 3,
   "metadata": {},
   "outputs": [],
   "source": [
    "# ネットワーク構造を定義\n",
    "graph = {\n",
    "    'a': ['b'],\n",
    "    'b': ['a', 'c'],\n",
    "    'c': ['b']\n",
    "}"
   ]
  },
  {
   "cell_type": "code",
   "execution_count": 4,
   "metadata": {},
   "outputs": [
    {
     "name": "stdout",
     "output_type": "stream",
     "text": [
      "条件を満たす経路の総数: 12\n",
      "a -> b -> a -> b -> c -> b -> a\n",
      "a -> b -> c -> b -> a -> b -> a\n",
      "a -> b -> c -> b -> c -> b -> a\n",
      "b -> a -> b -> a -> b -> c -> b\n",
      "b -> a -> b -> c -> b -> a -> b\n",
      "b -> a -> b -> c -> b -> c -> b\n",
      "b -> c -> b -> a -> b -> a -> b\n",
      "b -> c -> b -> a -> b -> c -> b\n",
      "b -> c -> b -> c -> b -> a -> b\n",
      "c -> b -> a -> b -> a -> b -> c\n",
      "c -> b -> a -> b -> c -> b -> c\n",
      "c -> b -> c -> b -> a -> b -> c\n"
     ]
    }
   ],
   "source": [
    "# 全ノードをスタート地点として探索\n",
    "all_paths = []\n",
    "for start_node in graph:\n",
    "    all_paths.extend(find_all_paths(graph, start_node, 6))\n",
    "\n",
    "# 結果の出力\n",
    "print(f\"条件を満たす経路の総数: {len(all_paths)}\")\n",
    "for path in all_paths:\n",
    "    print(\" -> \".join(path))"
   ]
  },
  {
   "cell_type": "code",
   "execution_count": null,
   "metadata": {},
   "outputs": [],
   "source": []
  }
 ],
 "metadata": {
  "kernelspec": {
   "display_name": "gt",
   "language": "python",
   "name": "python3"
  },
  "language_info": {
   "codemirror_mode": {
    "name": "ipython",
    "version": 3
   },
   "file_extension": ".py",
   "mimetype": "text/x-python",
   "name": "python",
   "nbconvert_exporter": "python",
   "pygments_lexer": "ipython3",
   "version": "3.12.1"
  },
  "orig_nbformat": 4
 },
 "nbformat": 4,
 "nbformat_minor": 2
}
