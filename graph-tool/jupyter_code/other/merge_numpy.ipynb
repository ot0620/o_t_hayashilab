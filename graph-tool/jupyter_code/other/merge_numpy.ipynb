{
 "cells": [
  {
   "cell_type": "code",
   "execution_count": 38,
   "metadata": {},
   "outputs": [],
   "source": [
    "from graph_tool.all import *\n",
    "import graph_tool.all as gt\n",
    "import scipy as sp\n",
    "import numpy as np\n",
    "from tqdm import tqdm\n",
    "import os"
   ]
  },
  {
   "cell_type": "code",
   "execution_count": 39,
   "metadata": {},
   "outputs": [],
   "source": [
    "path1 = \"~/o_t_hayashilab/Network_information/rewire_laplacian/μ_list/N=5000/ER/c=1_re=5000_0-9.npy\"\n",
    "npy1 = np.load(os.path.expanduser(path1), allow_pickle=True)\n",
    "path2 = \"~/o_t_hayashilab/Network_information/rewire_laplacian/μ_list/N=5000/ER/c=1_re=5000_10-19.npy\"\n",
    "npy2 = np.load(os.path.expanduser(path2), allow_pickle=True)\n",
    "path3 = \"~/o_t_hayashilab/Network_information/rewire_laplacian/μ_list/N=5000/ER/c=1_re=5000_20-29.npy\"\n",
    "npy3 = np.load(os.path.expanduser(path3), allow_pickle=True)\n",
    "path4 = \"~/o_t_hayashilab/Network_information/rewire_laplacian/μ_list/N=5000/ER/c=1_re=5000_30-39.npy\"\n",
    "npy4 = np.load(os.path.expanduser(path4), allow_pickle=True)\n",
    "path5 = \"~/o_t_hayashilab/Network_information/rewire_laplacian/μ_list/N=5000/ER/c=1_re=5000_40-49.npy\"\n",
    "npy5 = np.load(os.path.expanduser(path5), allow_pickle=True)\n",
    "path6 = \"~/o_t_hayashilab/Network_information/rewire_laplacian/μ_list/N=5000/ER/c=1_re=5000_50-59.npy\"\n",
    "npy6 = np.load(os.path.expanduser(path6), allow_pickle=True)\n",
    "path7 = \"~/o_t_hayashilab/Network_information/rewire_laplacian/μ_list/N=5000/ER/c=1_re=5000_60-69.npy\"\n",
    "npy7 = np.load(os.path.expanduser(path7), allow_pickle=True)\n",
    "path8 = \"~/o_t_hayashilab/Network_information/rewire_laplacian/μ_list/N=5000/ER/c=1_re=5000_70-79.npy\"\n",
    "npy8 = np.load(os.path.expanduser(path8), allow_pickle=True)\n",
    "path9 = \"~/o_t_hayashilab/Network_information/rewire_laplacian/μ_list/N=5000/ER/c=1_re=5000_80-89.npy\"\n",
    "npy9 = np.load(os.path.expanduser(path9), allow_pickle=True)\n",
    "path10 = \"~/o_t_hayashilab/Network_information/rewire_laplacian/μ_list/N=5000/ER/c=1_re=5000_90-99.npy\"\n",
    "npy10 = np.load(os.path.expanduser(path10), allow_pickle=True)"
   ]
  },
  {
   "cell_type": "code",
   "execution_count": 40,
   "metadata": {},
   "outputs": [
    {
     "data": {
      "text/plain": [
       "array([[0.26880702, 0.28363178, 0.29055828, ..., 0.48566078, 0.48566078,\n",
       "        0.48566078]])"
      ]
     },
     "execution_count": 40,
     "metadata": {},
     "output_type": "execute_result"
    }
   ],
   "source": [
    "npy3"
   ]
  },
  {
   "cell_type": "code",
   "execution_count": 41,
   "metadata": {},
   "outputs": [
    {
     "data": {
      "text/plain": [
       "array([[0.27332267, 0.28650206, 0.29660372, ..., 0.4876517 , 0.4876517 ,\n",
       "        0.4876517 ],\n",
       "       [0.26560749, 0.28264803, 0.29237618, ..., 0.4939322 , 0.4939322 ,\n",
       "        0.4939322 ],\n",
       "       [0.26880702, 0.28363178, 0.29055828, ..., 0.48566078, 0.48566078,\n",
       "        0.48566078],\n",
       "       ...,\n",
       "       [0.23957128, 0.25538445, 0.27068865, ..., 0.46775237, 0.46775237,\n",
       "        0.46775237],\n",
       "       [0.25971882, 0.28025855, 0.29565545, ..., 0.48473897, 0.48473897,\n",
       "        0.48473897],\n",
       "       [0.25926666, 0.27451657, 0.28429081, ..., 0.49675989, 0.49675989,\n",
       "        0.49675989]])"
      ]
     },
     "execution_count": 41,
     "metadata": {},
     "output_type": "execute_result"
    }
   ],
   "source": [
    "merged_data = np.concatenate((npy1,npy2,npy3,npy4,npy5,npy6,npy7,npy8,npy9,npy10), axis=0)\n",
    "merged_data"
   ]
  },
  {
   "cell_type": "code",
   "execution_count": 42,
   "metadata": {},
   "outputs": [
    {
     "data": {
      "text/plain": [
       "[array([0.25975115, 0.27586368, 0.28671142, ..., 0.48668165, 0.48668165,\n",
       "        0.48668165])]"
      ]
     },
     "execution_count": 42,
     "metadata": {},
     "output_type": "execute_result"
    }
   ],
   "source": [
    "ahaaaa = []\n",
    "mean_data = np.mean(merged_data, axis=0)\n",
    "ahaaaa.append(mean_data)\n",
    "ahaaaa"
   ]
  },
  {
   "cell_type": "code",
   "execution_count": 43,
   "metadata": {},
   "outputs": [],
   "source": [
    "sf_mu_subset = ahaaaa\n",
    "\n",
    "savedir = \"~/o_t_hayashilab/Network_information/rewire_laplacian/iteration_μ/N=5000/ER/\"\n",
    "\n",
    "os.makedirs(os.path.expanduser(savedir), exist_ok=True)\n",
    "\n",
    "savepath = os.path.join(os.path.expanduser(savedir), \"c=1_re=5000.npy\")\n",
    "\n",
    "np.save(savepath, sf_mu_subset)"
   ]
  },
  {
   "cell_type": "code",
   "execution_count": null,
   "metadata": {},
   "outputs": [],
   "source": []
  }
 ],
 "metadata": {
  "kernelspec": {
   "display_name": "gt",
   "language": "python",
   "name": "python3"
  },
  "language_info": {
   "codemirror_mode": {
    "name": "ipython",
    "version": 3
   },
   "file_extension": ".py",
   "mimetype": "text/x-python",
   "name": "python",
   "nbconvert_exporter": "python",
   "pygments_lexer": "ipython3",
   "version": "3.12.1"
  },
  "orig_nbformat": 4
 },
 "nbformat": 4,
 "nbformat_minor": 2
}
