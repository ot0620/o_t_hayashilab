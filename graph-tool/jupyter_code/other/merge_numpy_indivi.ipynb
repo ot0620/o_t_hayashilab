{
 "cells": [
  {
   "cell_type": "code",
   "execution_count": 1,
   "metadata": {},
   "outputs": [],
   "source": [
    "from graph_tool.all import *\n",
    "import graph_tool.all as gt\n",
    "import scipy as sp\n",
    "import numpy as np\n",
    "from tqdm import tqdm\n",
    "import os"
   ]
  },
  {
   "cell_type": "code",
   "execution_count": 2,
   "metadata": {},
   "outputs": [
    {
     "data": {
      "text/plain": [
       "array([[0.10803631, 0.1325967 , 0.15114539, ..., 0.55956876, 0.55956876,\n",
       "        0.55956876],\n",
       "       [0.13330239, 0.1365516 , 0.15082079, ..., 0.5413083 , 0.5413083 ,\n",
       "        0.5413083 ],\n",
       "       [0.14719843, 0.1535701 , 0.15870825, ..., 0.5550708 , 0.5550708 ,\n",
       "        0.5550708 ],\n",
       "       ...,\n",
       "       [0.13248231, 0.14581661, 0.17446773, ..., 0.50629089, 0.50629089,\n",
       "        0.50629089],\n",
       "       [0.16219576, 0.17082846, 0.18564094, ..., 0.53361161, 0.53361161,\n",
       "        0.53361161],\n",
       "       [0.1619583 , 0.1719116 , 0.17828273, ..., 0.54858474, 0.54858474,\n",
       "        0.54858474]])"
      ]
     },
     "execution_count": 2,
     "metadata": {},
     "output_type": "execute_result"
    }
   ],
   "source": [
    "npy_list = []\n",
    "for i in range(100):\n",
    "    path = f\"~/o_t_hayashilab/Network_information/rewire_laplacian/μ_list/N=5000/SF/c=2_re=2500/{i}.npy\"\n",
    "    npy = np.load(os.path.expanduser(path), allow_pickle=True)\n",
    "    npy_list.append(npy)\n",
    "\n",
    "stacked_data = np.vstack(npy_list)\n",
    "stacked_data"
   ]
  },
  {
   "cell_type": "code",
   "execution_count": 3,
   "metadata": {},
   "outputs": [
    {
     "data": {
      "text/plain": [
       "[array([0.13669881, 0.15055563, 0.16059841, ..., 0.50698316, 0.50698316,\n",
       "        0.50698316])]"
      ]
     },
     "execution_count": 3,
     "metadata": {},
     "output_type": "execute_result"
    }
   ],
   "source": [
    "ahaaaa = []\n",
    "mean_data = np.mean(stacked_data, axis=0)\n",
    "ahaaaa.append(mean_data)\n",
    "ahaaaa"
   ]
  },
  {
   "cell_type": "code",
   "execution_count": 4,
   "metadata": {},
   "outputs": [],
   "source": [
    "sf_mu_subset = ahaaaa\n",
    "\n",
    "savedir = \"~/o_t_hayashilab/Network_information/rewire_laplacian/iteration_μ/N=5000/SF/\"\n",
    "\n",
    "os.makedirs(os.path.expanduser(savedir), exist_ok=True)\n",
    "\n",
    "savepath = os.path.join(os.path.expanduser(savedir), \"c=2_re=2500.npy\")\n",
    "\n",
    "np.save(savepath, sf_mu_subset)"
   ]
  },
  {
   "cell_type": "code",
   "execution_count": null,
   "metadata": {},
   "outputs": [],
   "source": []
  }
 ],
 "metadata": {
  "kernelspec": {
   "display_name": "gt",
   "language": "python",
   "name": "python3"
  },
  "language_info": {
   "codemirror_mode": {
    "name": "ipython",
    "version": 3
   },
   "file_extension": ".py",
   "mimetype": "text/x-python",
   "name": "python",
   "nbconvert_exporter": "python",
   "pygments_lexer": "ipython3",
   "version": "3.12.1"
  },
  "orig_nbformat": 4
 },
 "nbformat": 4,
 "nbformat_minor": 2
}
