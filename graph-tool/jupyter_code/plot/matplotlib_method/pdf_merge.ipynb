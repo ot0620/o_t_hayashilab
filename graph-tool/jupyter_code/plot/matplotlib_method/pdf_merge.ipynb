{
 "cells": [
  {
   "cell_type": "code",
   "execution_count": null,
   "id": "initial_id",
   "metadata": {
    "collapsed": true
   },
   "outputs": [],
   "source": [
    "import os\n",
    "import fitz  # PyMuPDF"
   ]
  },
  {
   "cell_type": "markdown",
   "source": [
    "pdfを均等に重ならずに並べるコード例"
   ],
   "metadata": {
    "collapsed": false
   },
   "id": "6cd7f8c872a69b5"
  },
  {
   "cell_type": "code",
   "outputs": [],
   "source": [
    "w_list = [1000,5000]\n",
    "\n",
    "# 元PDFのディレクトリと出力先\n",
    "pdf_dir = os.path.expanduser('~/o_t_hayashilab/modular_net/Untitled Folder/')\n",
    "merged_pdf_path = os.path.join(pdf_dir, \"merged_eigenvalue.pdf\")\n",
    "\n",
    "# 入力PDFファイルのリスト（順番に注意）\n",
    "pdf_files = [os.path.join(pdf_dir, f\"eigenvalue_{w}.pdf\") for w in w_list]\n",
    "\n",
    "page_width = 842  # A4横サイズ（mm換算で約 297mm → 842pt）\n",
    "page_height = 595  # A4縦サイズ（210mm → 595pt）\n",
    "\n",
    "# 行・列数\n",
    "rows, cols = 1, 2\n",
    "cell_width = page_width / cols\n",
    "cell_height = page_height / rows\n",
    "\n",
    "# 出力PDFの作成\n",
    "doc = fitz.open()\n",
    "page = doc.new_page(width=page_width, height=page_height)\n",
    "\n",
    "for i, pdf_path in enumerate(pdf_files):\n",
    "    src_doc = fitz.open(pdf_path)\n",
    "    src_page = src_doc[0]  # 各PDFの1ページ目を取得\n",
    "\n",
    "    # 配置位置の計算\n",
    "    col = i % cols\n",
    "    x0 = col * cell_width\n",
    "    y0 = 0\n",
    "    x1 = x0 + cell_width\n",
    "    y1 = cell_height\n",
    "    target_rect = fitz.Rect(x0, y0, x1, y1)\n",
    "\n",
    "    # PDFページをベクターのまま貼り付け\n",
    "    page.show_pdf_page(target_rect, src_doc, 0)\n",
    "\n",
    "# 出力ファイル名\n",
    "doc.save(merged_pdf_path)\n",
    "doc.close()\n",
    "\n",
    "print(f\"✅ 2枚のPDFを横に並べてマージしました: {merged_pdf_path}\")"
   ],
   "metadata": {
    "collapsed": false
   },
   "id": "faf6a6b97eaa4bbc",
   "execution_count": null
  },
  {
   "cell_type": "code",
   "outputs": [],
   "source": [
    "# 元PDFのディレクトリと出力先\n",
    "pdf_dir = os.path.expanduser('~/o_t_hayashilab/modular_net/plot_data/')\n",
    "merged_pdf_path = os.path.join(pdf_dir, \"merged_2x3_vector.pdf\")\n",
    "\n",
    "# 入力PDFファイルのリスト（順番に注意）\n",
    "pdf_files = [os.path.join(pdf_dir, f\"vis_N200_SF_w{w}.pdf\") for w in w_list]\n",
    "\n",
    "# A4横向きサイズ（ポイント単位）\n",
    "page_width, page_height = 842, 595  # A4 landscape: 842pt x 595pt\n",
    "\n",
    "# 行数・列数\n",
    "rows, cols = 2, 3\n",
    "cell_width = page_width / cols\n",
    "cell_height = page_height / rows\n",
    "\n",
    "# 出力PDFドキュメント\n",
    "doc = fitz.open()\n",
    "page = doc.new_page(width=page_width, height=page_height)\n",
    "\n",
    "for i, pdf_path in enumerate(pdf_files):\n",
    "    # 読み込みPDF\n",
    "    src_doc = fitz.open(pdf_path)\n",
    "    src_page = src_doc[0]  # 各PDFの1ページ目のみ\n",
    "\n",
    "    # 配置先の位置を計算\n",
    "    row = i // cols\n",
    "    col = i % cols\n",
    "    x0 = col * cell_width\n",
    "    y0 = row * cell_height\n",
    "    x1 = x0 + cell_width\n",
    "    y1 = y0 + cell_height\n",
    "\n",
    "    target_rect = fitz.Rect(x0, y0, x1, y1)\n",
    "\n",
    "    # PDFページを配置（ベクターのまま）\n",
    "    page.show_pdf_page(target_rect, src_doc, 0)\n",
    "\n",
    "print(f\"✅ ベクター品質のままPDFを2×3にマージしました: {merged_pdf_path}\")\n",
    "doc.save(merged_pdf_path)\n",
    "doc.close()"
   ],
   "metadata": {
    "collapsed": false
   },
   "id": "7362ded05a089c45",
   "execution_count": null
  },
  {
   "cell_type": "code",
   "outputs": [],
   "source": [
    "# 元PDFのディレクトリと出力先\n",
    "pdf_dir = os.path.expanduser('~/o_t_hayashilab/modular_net/plot_data/')\n",
    "merged_pdf_path = os.path.join(pdf_dir, \"merged_2x3_vector.pdf\")\n",
    "\n",
    "# w_listを事前に定義（例）\n",
    "pdf_files = [os.path.join(pdf_dir, f\"vis_N200_SF_w{w}.pdf\") for w in w_list]\n",
    "\n",
    "# A4横向きサイズ（ポイント単位）\n",
    "page_width, page_height = 842, 595\n",
    "rows, cols = 2, 3\n",
    "cell_width = page_width / cols\n",
    "cell_height = page_height / rows\n",
    "\n",
    "# 出力PDFドキュメント\n",
    "doc = fitz.open()\n",
    "page = doc.new_page(width=page_width, height=page_height)\n",
    "\n",
    "# ラベルとフォントサイズ\n",
    "labels = ['a', 'b', 'c', 'd', 'e', 'f']\n",
    "font_size = 20  # 大きめのフォントサイズ\n",
    "\n",
    "for i, pdf_path in enumerate(pdf_files):\n",
    "    src_doc = fitz.open(pdf_path)\n",
    "    src_page = src_doc[0]\n",
    "\n",
    "    row = i // cols\n",
    "    col = i % cols\n",
    "    x0 = col * cell_width\n",
    "    y0 = row * cell_height\n",
    "    x1 = x0 + cell_width\n",
    "    y1 = y0 + cell_height\n",
    "    target_rect = fitz.Rect(x0, y0, x1, y1)\n",
    "\n",
    "    # PDFページを配置\n",
    "    page.show_pdf_page(target_rect, src_doc, 0)\n",
    "\n",
    "    # ラベルを挿入（左上から少し右下にずらす）\n",
    "    margin_x = 10\n",
    "    margin_y = 20  # フォントサイズと余白に合わせて調整\n",
    "    label_position = fitz.Point(x0 + margin_x, y0 + margin_y)\n",
    "    page.insert_text(\n",
    "        label_position,\n",
    "        labels[i],\n",
    "        fontsize=font_size,\n",
    "        fontname=\"helv\",\n",
    "        color=(0, 0, 0)\n",
    "    )\n",
    "\n",
    "print(f\"✅ フォントサイズを大きくしてラベル付きPDFを作成しました: {merged_pdf_path}\")\n",
    "doc.save(merged_pdf_path)\n",
    "doc.close()"
   ],
   "metadata": {
    "collapsed": false
   },
   "id": "7ba66c9226410564",
   "execution_count": null
  }
 ],
 "metadata": {
  "kernelspec": {
   "display_name": "Python 3",
   "language": "python",
   "name": "python3"
  },
  "language_info": {
   "codemirror_mode": {
    "name": "ipython",
    "version": 2
   },
   "file_extension": ".py",
   "mimetype": "text/x-python",
   "name": "python",
   "nbconvert_exporter": "python",
   "pygments_lexer": "ipython2",
   "version": "2.7.6"
  }
 },
 "nbformat": 4,
 "nbformat_minor": 5
}
