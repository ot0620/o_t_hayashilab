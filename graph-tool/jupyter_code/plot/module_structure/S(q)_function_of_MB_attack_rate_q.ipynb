{
 "cells": [
  {
   "cell_type": "code",
   "execution_count": null,
   "id": "initial_id",
   "metadata": {
    "collapsed": true
   },
   "outputs": [],
   "source": [
    "import graph_tool.all as gt\n",
    "import matplotlib.pyplot as plt\n",
    "import numpy as np\n",
    "from scipy.integrate import simpson\n",
    "import random\n",
    "from tqdm import tqdm\n",
    "import os"
   ]
  },
  {
   "cell_type": "code",
   "outputs": [],
   "source": [
    "n = 10000\n",
    "\n",
    "m = 2\n",
    "\n",
    "times = 100\n",
    "\n",
    "M_list = [5,10,20,50,100,200]\n",
    "\n",
    "beta_list = [\"+1.0\", \"+0.5\", \"0\", \"-1\", \"-3\", \"-5\", \"-100\"]\n",
    "\n",
    "net_list = [\"SF\", \"Cutoff\", \"RA\", \"IPA_beta1\", \"IPA_beta3\", \"IPA_beta5\", \"IPA_beta100\"]"
   ],
   "metadata": {
    "collapsed": false
   },
   "id": "dc0917434f7992fc",
   "execution_count": null
  },
  {
   "cell_type": "code",
   "outputs": [],
   "source": [
    "from decimal import Decimal\n",
    "\n",
    "w_list = [0.00, 0.50, 0.70, 0.90, 0.95, 0.98]\n",
    "w_list = [Decimal(str(item)).quantize(Decimal('0.00')) for item in w_list]"
   ],
   "metadata": {
    "collapsed": false
   },
   "id": "a42745afb4ab42e4",
   "execution_count": null
  },
  {
   "cell_type": "code",
   "outputs": [],
   "source": [
    "def inter_intra(g):\n",
    "    # intra, interlinkのリストを初期化\n",
    "    intra_link = []\n",
    "    inter_link = []\n",
    "        \n",
    "    # intra, interlinkを識別\n",
    "    for edge in g.edges():\n",
    "        source_vertex = edge.source()\n",
    "        target_vertex = edge.target()\n",
    "    \n",
    "        if g.vp.module_number[source_vertex] == g.vp.module_number[target_vertex]:\n",
    "            intra_link.append(edge)\n",
    "        else:\n",
    "            inter_link.append(edge)\n",
    "            \n",
    "    return intra_link"
   ],
   "metadata": {
    "collapsed": false
   },
   "id": "a4b3f1d87cdc67d5",
   "execution_count": null
  },
  {
   "cell_type": "code",
   "outputs": [],
   "source": [
    "def module_based_attack(graph, intra_link):\n",
    "    \n",
    "    #### 3. コミュニティ間の接続に参加しているノード（またはエッジ）のリストを作成する。 ####\n",
    "    \n",
    "    # 空の集合を作成（重複の排除）\n",
    "    intercommunity_nodes = set()\n",
    "    # Gの全てのedgeに対してループを回す\n",
    "    for edge in graph.edges():\n",
    "        # 現在のedgeの始点ノードを取得\n",
    "        source_vertex = edge.source()\n",
    "        # 現在のedgeの終点ノードを取得\n",
    "        target_vertex = edge.target()\n",
    "        # 始点ノードと終点ノードが異なるモジュールに所属していれば、\n",
    "        if graph.vp.module_number[source_vertex] != graph.vp.module_number[target_vertex]:\n",
    "            # intercommunity_nodesにノードを追加\n",
    "            intercommunity_nodes.add(source_vertex)\n",
    "            intercommunity_nodes.add(target_vertex)\n",
    "\n",
    "    #### 4. (ノードまたはエッジの)間の中心性の降順に従ってリストをソートする。 ####\n",
    "    # ノードの媒介中心性のリストを返す\n",
    "    node_betweenness = gt.betweenness(graph)[0]\n",
    "    # intercommunity_nodesのリストを媒介中心性の高い順にソートする\n",
    "    sorted_nodes = sorted(intercommunity_nodes, key=lambda v: node_betweenness[v], reverse=True)\n",
    "\n",
    "    #### 5. リストの先頭から1つずつノード（またはエッジ）を削除する。 ####\n",
    "    #### 6. 2つのコミュニティ間のリンクからノードが削除されると、他のコミュニティ間の接続にもう一方のノードが参加していない限り、 ####\n",
    "    ####    そのノードはリストからスキップされる。 ####\n",
    "    #### 7. 攻撃は常にネットワークの最大連結成分に限定される。####\n",
    "    \n",
    "    # 削除されるノードの保存用リストを初期化\n",
    "    removed_nodes = []\n",
    "    # ソートされたノードがなくなるまでループ\n",
    "    while sorted_nodes:\n",
    "        # リストからノードを取り出す\n",
    "        node = sorted_nodes.pop(0)\n",
    "        # ノードがすでにremoved_nodesにないかを確認。リストになければ、、\n",
    "        if node not in removed_nodes:\n",
    "            # removed_nodesにノードを追加\n",
    "            removed_nodes.append(node)\n",
    "\n",
    "            # そのノードに隣接する全てのノードを取得し、その数だけループを繰り返す\n",
    "            for neighbor in node.all_neighbors():\n",
    "                \n",
    "                # 隣接ノードとそのノードのモジュール番号が違ければ、、、\n",
    "                if graph.vp.module_number[neighbor] != graph.vp.module_number[node]:\n",
    "                    # その隣接ノードがまだsorted_nodesに存在すれば、、、\n",
    "                    if neighbor in sorted_nodes:\n",
    "                        # sorted_nodesから隣接ノードを削除する\n",
    "                        sorted_nodes.remove(neighbor)\n",
    "\n",
    "            # Gの最大連結成分に含まれるノードに対してTrueを、それ以外のノードに対してFalseを持つブールマスクを返す\n",
    "            lcc_vertex_mask = gt.label_largest_component(graph)\n",
    "            # Trueとなるノードのみをsorted_nodesに格納\n",
    "            sorted_nodes = [v for v in sorted_nodes if lcc_vertex_mask[v]]\n",
    "\n",
    "    # 削除されたノードの数がグラフ graphの全ノード数より少ない場合\n",
    "    if len(removed_nodes) < graph.num_vertices():\n",
    "        # まだ削除リストに含まれていないノードのセットを計算\n",
    "        nodes_not_removed = set(graph.iter_vertices()) - set(removed_nodes)\n",
    "        # どれだけのノードが削除リストに追加されるべきかを計算\n",
    "        padding_required = graph.num_vertices() - len(removed_nodes)\n",
    "    \n",
    "        # 削除リストに含まれていないノードの数だけループ\n",
    "        for node in nodes_not_removed:\n",
    "            # もし、padding_requiredが0になれば、処理を終了\n",
    "            if padding_required <= 0:\n",
    "                break\n",
    "            # 削除リストノードを追加\n",
    "            removed_nodes.append(node)\n",
    "            # 必要なノード数を１減少\n",
    "            padding_required -= 1\n",
    "\n",
    "    #print(len(removed_nodes))\n",
    "    # リストを逆順に。\n",
    "    removed_nodes.reverse()\n",
    "    return removed_nodes"
   ],
   "metadata": {
    "collapsed": false
   },
   "id": "90968103a4e802e",
   "execution_count": null
  },
  {
   "cell_type": "markdown",
   "source": [
    "モジュール数とリワイヤリング率、シミュレーション回数に着目した繰り返し処理"
   ],
   "metadata": {
    "collapsed": false
   },
   "id": "10ab5a4602fb57f6"
  },
  {
   "cell_type": "code",
   "outputs": [],
   "source": [
    "for net, beta in zip(net_list, beta_list):\n",
    "    R_all_list = []\n",
    "    Q_all_list = []\n",
    "    for M in M_list:\n",
    "        MB_avg_list =[]\n",
    "        R_list = []\n",
    "        Q_w_list = []\n",
    "        for w in w_list: \n",
    "            MB = []\n",
    "            Q_list = []\n",
    "            for i in tqdm(range(times)):\n",
    "                g = gt.load_graph(f\"~/o_t_hayashilab/modular_net/{net}/w={w}/m0={M}/{i}.gt.gz\")\n",
    "                intra_link = inter_intra(g)\n",
    "                module_base = module_based_attack(g, intra_link)\n",
    "                sizes, comp = gt.vertex_percolation(g, module_base)\n",
    "                module_attack = [frc for frc in sizes]\n",
    "                perc = np.array(module_attack)\n",
    "                perc = perc / n\n",
    "                MB.append(perc)\n",
    "                \n",
    "                state = gt.BlockState(g, b=g.vp.module_number)\n",
    "                Q = gt.modularity(g, state.get_blocks())\n",
    "                Q_list.append(Q)\n",
    "                \n",
    "            MB_avg = np.mean(MB, axis=0)\n",
    "            R = simpson(MB_avg, dx=1/n)\n",
    "            MB_avg_list.append(MB_avg)\n",
    "            R_list.append(R)\n",
    "            \n",
    "            Q_avg = np.mean(Q_list)\n",
    "            Q_w_list.append(Q_avg)\n",
    "            \n",
    "        R_all_list.append(R_list)\n",
    "        Q_all_list.append(Q_w_list)\n",
    "        \n",
    "        colors = [\"red\", \"orange\", \"yellow\", \"green\", \"blue\", \"cyan\", \"purple\", (0.03, 0.18, 0.42), (0.4, 0, 0.4)]\n",
    "        rem_nd_frac = np.linspace(0, 1, num = n)\n",
    "        plt.figure(figsize=(7.5, 6))\n",
    "        for j in range(len(w_list)):\n",
    "            data = MB_avg_list[j]\n",
    "            label = f\"w'={w_list[j]}\"\n",
    "            line = plt.plot(1 - rem_nd_frac, data, label=label, color=colors[j])\n",
    "        \n",
    "        plt.xlabel(\"q\", fontsize=20)\n",
    "        plt.ylabel(r\"$S^{1st}(q)/N$\", fontsize=20)\n",
    "        plt.tick_params(axis='both', which='major', labelsize=20)\n",
    "        plt.ylim(0, 1)\n",
    "        plt.xlim(0, 1)\n",
    "        plt.legend(loc=\"upper right\", fontsize=17)\n",
    "        plt.tight_layout()\n",
    "        \n",
    "        # 保存先のディレクトリを指定\n",
    "        save_dir = os.path.expanduser('~/o_t_hayashilab/modular_net/MB_GC/')\n",
    "        os.makedirs(save_dir, exist_ok=True)  # ディレクトリが存在しない場合は作成\n",
    "        # EPS形式で図を保存（フルパスを指定）\n",
    "        save_path = os.path.join(save_dir, f\"GC_nu{beta}_mo{M}.eps\")\n",
    "        plt.savefig(save_path, format='eps', bbox_inches='tight')\n",
    "        \n",
    "        plt.show()"
   ],
   "metadata": {
    "collapsed": false
   },
   "id": "79da0c421e7ea44c",
   "execution_count": null
  },
  {
   "cell_type": "code",
   "outputs": [],
   "source": [
    "plt.figure(figsize=(8, 6))\n",
    "for idx, M in enumerate(M_list):\n",
    "    plt.plot(Q_all_list[idx], R_all_list[idx], label=f\"M={M}\", color = colors[idx])\n",
    "\n",
    "plt.xlabel(\"Q\", fontsize=14)\n",
    "plt.ylabel(r\"$R^{MB}$\", fontsize=14)\n",
    "plt.title(f\"{net}\", fontsize=16)\n",
    "plt.legend(loc='lower left')\n",
    "plt.grid(True)\n",
    "plt.tight_layout()\n",
    "plt.show()"
   ],
   "metadata": {
    "collapsed": false
   },
   "id": "c942e1e58e53944b",
   "execution_count": null
  },
  {
   "cell_type": "code",
   "outputs": [],
   "source": [],
   "metadata": {
    "collapsed": false
   },
   "id": "d6e48d74c7f6b921",
   "execution_count": null
  }
 ],
 "metadata": {
  "kernelspec": {
   "display_name": "Python 3",
   "language": "python",
   "name": "python3"
  },
  "language_info": {
   "codemirror_mode": {
    "name": "ipython",
    "version": 2
   },
   "file_extension": ".py",
   "mimetype": "text/x-python",
   "name": "python",
   "nbconvert_exporter": "python",
   "pygments_lexer": "ipython2",
   "version": "2.7.6"
  }
 },
 "nbformat": 4,
 "nbformat_minor": 5
}
