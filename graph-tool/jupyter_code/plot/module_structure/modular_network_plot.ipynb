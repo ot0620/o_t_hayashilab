{
 "cells": [
  {
   "cell_type": "code",
   "execution_count": null,
   "id": "initial_id",
   "metadata": {
    "collapsed": true
   },
   "outputs": [],
   "source": [
    "from graph_tool.all import *\n",
    "import graph_tool.all as gt\n",
    "import random\n",
    "import numpy as np\n",
    "import numpy.random as rnd\n",
    "import matplotlib.pyplot as plt\n",
    "import time\n",
    "import os\n",
    "import matplotlib.cm as cm\n",
    "import matplotlib.colors as mcolors\n",
    "import pandas as pd\n",
    "from tqdm import tqdm"
   ]
  },
  {
   "cell_type": "code",
   "outputs": [],
   "source": [
    "Node = 200\n",
    "number_of_module = 5\n",
    "w_list = [0.00, 0.50, 0.70, 0.90, 0.95, 0.98]\n",
    "w_list = [\"{:.2f}\".format(item) for item in w_list]\n",
    "net = \"SF\"\n",
    "beta = 1"
   ],
   "metadata": {
    "collapsed": false
   },
   "id": "73b456b6f8cf9425",
   "execution_count": null
  },
  {
   "cell_type": "code",
   "outputs": [],
   "source": [
    "for w in w_list:\n",
    "    \n",
    "    g = load_graph(f\"~/path/name/file/name\")\n",
    "    \n",
    "    # Layoutアルゴリズムで頂点の位置を決定\n",
    "    pos = gt.sfdp_layout(g)\n",
    "\n",
    "    # モジュール番号に基づいてノードに色づけ\n",
    "    color = g.vertex_properties[\"module_number\"] # gのプロパティであるmodule_numberをcolorに格納\n",
    "    number_of_module = max(color.a)\n",
    "    vertex_colors = g.new_vertex_property(\"vector<float>\") # ｇに新しいプロパティであるvertex_colorsを作成\n",
    "    \n",
    "    #cmap = cm.get_cmap('tab20', number_of_module) # 20種類の異なる色を提供\n",
    "    #cmap = [cmap(i) for i in range(number_of_module)]\n",
    "    #cmap = mcolors.ListedColormap(cmap)\n",
    "    \n",
    "    # Define the desired colors for each module\n",
    "    custom_colors = [\"red\", \"orange\", \"yellow\", \"green\", \"blue\"]\n",
    "\n",
    "    # Create a custom colormap with the specified colors\n",
    "    cmap = mcolors.ListedColormap(custom_colors)\n",
    "    \n",
    "    cmap = cmap  # Use the custom colormap directly\n",
    "\n",
    "    for v in g.vertices():\n",
    "        module_number = color[v]\n",
    "        # module_numberを元にcmapから色を取得、モジュール番号を10で割った余りを計算し、0から1の範囲に正規化\n",
    "        rgba_color = cmap((module_number - 1) % number_of_module / (number_of_module - 1)) \n",
    "        vertex_colors[v] = rgba_color\n",
    "        \n",
    "    deg = g.degree_property_map(\"total\")\n",
    "\n",
    "    gt.graph_draw(g, pos=pos, vertex_fill_color=vertex_colors, vertex_size = gt.prop_to_size(deg,mi=5,ma=50,log=False), output_size=(800, 800),output = None)"
   ],
   "metadata": {
    "collapsed": false
   },
   "id": "ba2004687d8148dc",
   "execution_count": null
  },
  {
   "cell_type": "code",
   "outputs": [],
   "source": [
    "for w in w_list:\n",
    "    \n",
    "    g = load_graph(f\"~/o_t_hayashilab/try_modular_net/only_plot/{net}/w={w}/m0={number_of_module}/0.gt.gz\")\n",
    "    \n",
    "    # Layoutアルゴリズムで頂点の位置を決定\n",
    "    pos = gt.sfdp_layout(g)\n",
    "\n",
    "    # モジュール番号に基づいてノードに色づけ\n",
    "    color = g.vertex_properties[\"module_number\"]  # gのプロパティであるmodule_numberをcolorに格納\n",
    "    number_of_module = max(color.a)\n",
    "    vertex_colors = g.new_vertex_property(\"vector<float>\")  # gに新しいプロパティであるvertex_colorsを作成\n",
    "    \n",
    "    # Define the desired colors for each module\n",
    "    custom_colors = [\"red\", \"orange\", \"yellow\", \"green\", \"blue\"]\n",
    "\n",
    "    # Create a custom colormap with the specified colors\n",
    "    cmap = mcolors.ListedColormap(custom_colors)\n",
    "\n",
    "    for v in g.vertices():\n",
    "        module_number = color[v]\n",
    "        # module_numberを元にcmapから色を取得、モジュール番号を10で割った余りを計算し、0から1の範囲に正規化\n",
    "        rgba_color = cmap((module_number - 1) % number_of_module / (number_of_module - 1)) \n",
    "        vertex_colors[v] = rgba_color\n",
    "        \n",
    "    deg = g.degree_property_map(\"total\")\n",
    "    \n",
    "    # 保存先のディレクトリを指定\n",
    "    save_dir = os.path.expanduser('~/o_t_hayashilab/modular_net/plot_data/')\n",
    "    os.makedirs(save_dir, exist_ok=True)  # ディレクトリが存在しない場合は作成\n",
    "    save_path = os.path.join(save_dir, f\"vis_N200_SF_w{w}.eps\")\n",
    "    \n",
    "    # グラフを描画し、保存\n",
    "    gt.graph_draw(g, pos=pos, vertex_fill_color=vertex_colors, vertex_size=gt.prop_to_size(deg, mi=5, ma=50, log=False), output_size=(800, 800), output=save_path)"
   ],
   "metadata": {
    "collapsed": false
   },
   "id": "83c1e1ce0fe09872",
   "execution_count": null
  }
 ],
 "metadata": {
  "kernelspec": {
   "display_name": "Python 3",
   "language": "python",
   "name": "python3"
  },
  "language_info": {
   "codemirror_mode": {
    "name": "ipython",
    "version": 2
   },
   "file_extension": ".py",
   "mimetype": "text/x-python",
   "name": "python",
   "nbconvert_exporter": "python",
   "pygments_lexer": "ipython2",
   "version": "2.7.6"
  }
 },
 "nbformat": 4,
 "nbformat_minor": 5
}
