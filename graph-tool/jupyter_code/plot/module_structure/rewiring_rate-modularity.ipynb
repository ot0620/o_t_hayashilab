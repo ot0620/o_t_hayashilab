{
 "cells": [
  {
   "cell_type": "code",
   "execution_count": null,
   "id": "initial_id",
   "metadata": {
    "collapsed": true
   },
   "outputs": [],
   "source": [
    "from graph_tool.all import *\n",
    "import graph_tool.all as gt\n",
    "import numpy as np\n",
    "import scipy as sp\n",
    "from scipy.integrate import simpson\n",
    "import random\n",
    "import os\n",
    "from tqdm import tqdm\n",
    "import matplotlib.pyplot as plt\n",
    "import matplotlib.image as mpimg\n",
    "import pandas as pd\n",
    "from PyGnuplot import gp\n",
    "import subprocess"
   ]
  },
  {
   "cell_type": "code",
   "outputs": [],
   "source": [
    "Node = 10000\n",
    "\n",
    "m = 2\n",
    "\n",
    "times = 100\n",
    "\n",
    "M_list  = [5, 10, 20, 50, 100, 200]\n",
    "\n",
    "beta_list = [1,1/2,0,-1,-3,-5,-100]\n",
    "\n",
    "net_list = [\"SF\", \"Cutoff\", \"RA\", \"IPA_beta1\", \"IPA_beta3\", \"IPA_beta5\", \"IPA_beta100\"]"
   ],
   "metadata": {
    "collapsed": false
   },
   "id": "fb84a7341dc0512e",
   "execution_count": null
  },
  {
   "cell_type": "code",
   "outputs": [],
   "source": [
    "from decimal import Decimal\n",
    "\n",
    "w_list = [0.00, 0.50, 0.70, 0.90, 0.95, 0.98]\n",
    "\n",
    "w_list = [Decimal(str(item)).quantize(Decimal('0.00')) for item in w_list]"
   ],
   "metadata": {
    "collapsed": false
   },
   "id": "90d79fcfbec37c0b",
   "execution_count": null
  },
  {
   "cell_type": "code",
   "outputs": [],
   "source": [
    "def plot_correlation(x_values, y_values, label, color, marker='o', size=100, linestyle='-'):  # linestyle引数を追加\n",
    "    plt.scatter(x_values, y_values, label=label, color=color, marker=marker, s=size)  # 散布図を作成\n",
    "    plt.plot(x_values, y_values, color=color, linestyle=linestyle)  # 線を引く\n",
    "\n",
    "for M in M_list:\n",
    "    save_path = f\"~/o_t_hayashilab/modular_network_info/N={Node}/m0={M}/actual_w.npy\"\n",
    "    ac_w_file = np.load(os.path.expanduser(save_path), allow_pickle=True)\n",
    "    \n",
    "    # 散布図を作成\n",
    "    plt.figure(figsize=(8, 6))\n",
    "    \n",
    "    plot_correlation(w_list[1:], ac_w_file[0], label='v=1', color='red', size=75)\n",
    "    \n",
    "    plot_correlation(w_list[1:], ac_w_file[4], label='v=-3', color='blue', size=75)\n",
    "    \n",
    "    plot_correlation(w_list[1:], ac_w_file[1], label='v=1/2', color='orange', size=75)\n",
    "    \n",
    "    plot_correlation(w_list[1:], ac_w_file[5], label='v=-5', color='cyan', size=75)\n",
    "    \n",
    "    plot_correlation(w_list[1:], ac_w_file[2], label='v=0', color='yellow', size=75)\n",
    "    \n",
    "    plot_correlation(w_list[1:], ac_w_file[6], label='v=-100', color='purple', size=75)\n",
    "    \n",
    "    plot_correlation(w_list[1:], ac_w_file[3], label='v=-1', color='green', size=75)\n",
    "    \n",
    "    # y = x の薄い点線を追加\n",
    "    plt.plot([0, 1], [0, 1], color='gray', linestyle=(0, (5, 10)), linewidth=1, alpha=0.7)\n",
    "\n",
    "    \n",
    "    # 軸ラベルの設定\n",
    "    plt.xlabel(r\"$w'$\", fontsize=20)\n",
    "    plt.ylabel(r\"$w$\", fontsize=20)\n",
    "    \n",
    "    # x軸の範囲を設定（0から最大値+0.05）\n",
    "    plt.xlim(0, 1.0)\n",
    "    # x軸の目盛りを調整（ここでは0.1刻みに設定し、フォントサイズを15に）\n",
    "    plt.xticks(ticks=[0, 0.2, 0.4, 0.6, 0.8, 1.0], fontsize=15)\n",
    "    \n",
    "    # y軸の範囲を設定（0から最大値+0.05）\n",
    "    plt.ylim(0, 1.0)\n",
    "    plt.yticks(ticks=[0, 0.2, 0.4, 0.6, 0.8, 1.0], fontsize=15)\n",
    "    \n",
    "    # 凡例の設定（上に2×2で配置）\n",
    "    plt.legend(loc='upper center', fontsize=16, bbox_to_anchor=(0.5, 1.19), ncol=4, handletextpad=0.4)\n",
    "    \n",
    "    # 保存先のディレクトリを指定\n",
    "    save_dir = os.path.expanduser('~/o_t_hayashilab/modular_network_info/actual_w_plot/')\n",
    "    os.makedirs(save_dir, exist_ok=True)  # ディレクトリが存在しない場合は作成\n",
    "    # EPS形式で図を保存（フルパスを指定）\n",
    "    save_path = os.path.join(save_dir, f\"actual_w_mo{M}.eps\")\n",
    "    plt.savefig(save_path, format='eps', bbox_inches='tight')\n",
    "    \n",
    "    # プロットの表示\n",
    "    plt.show()"
   ],
   "metadata": {
    "collapsed": false
   },
   "id": "296780f75d4be1fa",
   "execution_count": null
  },
  {
   "cell_type": "code",
   "outputs": [],
   "source": [
    "def plot_correlation(x_values, y_values, label, color, marker='o', size=100, linestyle='-'):  # linestyle引数を追加\n",
    "    plt.scatter(x_values, y_values, label=label, color=color, marker=marker, s=size)  # 散布図を作成\n",
    "    plt.plot(x_values, y_values, color=color, linestyle=linestyle)  # 線を引く\n",
    "\n",
    "for M in M_list:\n",
    "    save_path = f\"~/o_t_hayashilab/modular_network_info/N={Node}/m0={M}/actual_w.npy\"\n",
    "    ac_w_file = np.load(os.path.expanduser(save_path), allow_pickle=True)\n",
    "    save_path = f\"~/o_t_hayashilab/modular_network_info/N={Node}/m0={M}/modularity_q.npy\"\n",
    "    q_file = np.load(os.path.expanduser(save_path), allow_pickle=True)\n",
    "    \n",
    "    # 散布図を作成\n",
    "    plt.figure(figsize=(8, 6))\n",
    "    \n",
    "    plot_correlation(ac_w_file[0], q_file[0][1:], label='v=1', color='red', size=75)\n",
    "    \n",
    "    plot_correlation(ac_w_file[4], q_file[4][1:], label='v=-3', color='blue', size=75)\n",
    "    \n",
    "    plot_correlation(ac_w_file[1], q_file[1][1:], label='v=1/2', color='orange', size=75)\n",
    "    \n",
    "    plot_correlation(ac_w_file[5], q_file[5][1:], label='v=-5', color='cyan', size=75)\n",
    "    \n",
    "    plot_correlation(ac_w_file[2], q_file[2][1:], label='v=0', color='yellow', size=75)\n",
    "    \n",
    "    plot_correlation(ac_w_file[6], q_file[6][1:], label='v=-100', color='purple', size=75)\n",
    "    \n",
    "    plot_correlation(ac_w_file[3], q_file[3][1:], label='v=-1', color='green', size=75)\n",
    "    \n",
    "    # 軸ラベルの設定\n",
    "    plt.xlabel(r\"$w$\", fontsize=20)\n",
    "    plt.ylabel(r\"$Q$\", fontsize=20)\n",
    "    \n",
    "    # x軸の範囲を設定（0から最大値+0.05）\n",
    "    plt.xlim(0, 1.0)\n",
    "    # x軸の目盛りを調整（ここでは0.1刻みに設定し、フォントサイズを15に）\n",
    "    plt.xticks(ticks=[0, 0.2, 0.4, 0.6, 0.8, 1.0], fontsize=15)\n",
    "    \n",
    "    # y軸の範囲を設定（0から最大値+0.05）\n",
    "    plt.ylim(0, 1.0)\n",
    "    plt.yticks(ticks=[0, 0.2, 0.4, 0.6, 0.8, 1.0], fontsize=15)\n",
    "    \n",
    "    # 凡例の設定（上に2×2で配置）\n",
    "    plt.legend(loc='upper center', fontsize=16, bbox_to_anchor=(0.5, 1.19), ncol=4, handletextpad=0.4)\n",
    "    \n",
    "    # 保存先のディレクトリを指定\n",
    "    save_dir = os.path.expanduser('~/o_t_hayashilab/modular_network_info/w_q_relation_plot/')\n",
    "    os.makedirs(save_dir, exist_ok=True)  # ディレクトリが存在しない場合は作成\n",
    "    # EPS形式で図を保存（フルパスを指定）\n",
    "    save_path = os.path.join(save_dir, f\"w_q_mo{M}.eps\")\n",
    "    plt.savefig(save_path, format='eps', bbox_inches='tight')\n",
    "    \n",
    "    # プロットの表示\n",
    "    plt.show()"
   ],
   "metadata": {
    "collapsed": false
   },
   "id": "18cd225b6401bed4",
   "execution_count": null
  },
  {
   "cell_type": "code",
   "outputs": [],
   "source": [],
   "metadata": {
    "collapsed": false
   },
   "id": "929f676b7f98b41f",
   "execution_count": null
  }
 ],
 "metadata": {
  "kernelspec": {
   "display_name": "Python 3",
   "language": "python",
   "name": "python3"
  },
  "language_info": {
   "codemirror_mode": {
    "name": "ipython",
    "version": 2
   },
   "file_extension": ".py",
   "mimetype": "text/x-python",
   "name": "python",
   "nbconvert_exporter": "python",
   "pygments_lexer": "ipython2",
   "version": "2.7.6"
  }
 },
 "nbformat": 4,
 "nbformat_minor": 5
}
