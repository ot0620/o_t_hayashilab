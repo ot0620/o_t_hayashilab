{
 "cells": [
  {
   "cell_type": "code",
   "execution_count": 1,
   "id": "initial_id",
   "metadata": {
    "collapsed": true,
    "ExecuteTime": {
     "end_time": "2024-10-23T08:10:37.767778713Z",
     "start_time": "2024-10-23T08:10:37.036821710Z"
    }
   },
   "outputs": [],
   "source": [
    "from graph_tool.all import *\n",
    "import graph_tool.all as gt\n",
    "import numpy as np\n",
    "import scipy as sp\n",
    "import random\n",
    "import os\n",
    "from tqdm import tqdm\n",
    "import matplotlib.pyplot as plt\n",
    "import matplotlib.image as mpimg\n",
    "import pandas as pd\n",
    "from PyGnuplot import gp\n",
    "import subprocess\n",
    "from scipy.integrate import simpson"
   ]
  },
  {
   "cell_type": "code",
   "outputs": [],
   "source": [
    "Node = 1000\n",
    "\n",
    "m = 2\n",
    "\n",
    "times = 100\n",
    "\n",
    "beta_list = [1,-1]\n",
    "\n",
    "net_list = [\"SF\", \"IPA_beta1\"]\n",
    "\n",
    "name_list = [\"SF\", \"ER\"]"
   ],
   "metadata": {
    "collapsed": false,
    "ExecuteTime": {
     "end_time": "2024-10-14T16:53:33.788708362Z",
     "start_time": "2024-10-14T16:53:33.787746811Z"
    }
   },
   "id": "9a630a6974e00b37",
   "execution_count": 2
  },
  {
   "cell_type": "code",
   "outputs": [],
   "source": [
    "# 第二固有値と固有ベクトルを算出する関数\n",
    "def no_normalized_laplacian(g):\n",
    "    # ラプラシアン行列の計算\n",
    "    # `normalized` 引数を削除\n",
    "    L = gt.laplacian(g)\n",
    "    \n",
    "    # scipyのスパース行列としてラプラシアン行列を取得\n",
    "    L_sparse = sp.sparse.csr_matrix(L)\n",
    "    \n",
    "    # 固有値と固有ベクトルの計算 (第二小さい固有値とその固有ベクトルを求める)\n",
    "    eigenvalues, eigenvectors = sp.sparse.linalg.eigsh(L_sparse, k=2, which='SM')\n",
    "    \n",
    "    second_values = eigenvalues[1]\n",
    "    \n",
    "    # フィードラーベクトル (第二小さい固有値に対応する固有ベクトル) の抽出\n",
    "    fiedler_vector = eigenvectors[:, 1]\n",
    "    \n",
    "    return second_values, fiedler_vector"
   ],
   "metadata": {
    "collapsed": false,
    "ExecuteTime": {
     "end_time": "2024-10-14T16:53:33.789444080Z",
     "start_time": "2024-10-14T16:53:33.787881711Z"
    }
   },
   "id": "abaeb231ceded205",
   "execution_count": 3
  },
  {
   "cell_type": "code",
   "outputs": [
    {
     "name": "stderr",
     "output_type": "stream",
     "text": [
      "100%|██████████| 100/100 [00:48<00:00,  2.06it/s]\n",
      "100%|██████████| 100/100 [00:29<00:00,  3.41it/s]\n",
      "100%|██████████| 100/100 [00:29<00:00,  3.40it/s]\n",
      "100%|██████████| 100/100 [00:23<00:00,  4.28it/s]\n",
      "100%|██████████| 100/100 [00:18<00:00,  5.32it/s]\n",
      "100%|██████████| 100/100 [00:19<00:00,  5.07it/s]\n",
      "100%|██████████| 100/100 [00:22<00:00,  4.42it/s]\n",
      "100%|██████████| 100/100 [00:20<00:00,  4.92it/s]\n",
      "100%|██████████| 100/100 [00:12<00:00,  8.21it/s]\n",
      "100%|██████████| 100/100 [00:06<00:00, 15.46it/s]\n",
      "100%|██████████| 100/100 [00:16<00:00,  6.22it/s]\n",
      "100%|██████████| 100/100 [00:14<00:00,  6.83it/s]\n",
      "100%|██████████| 100/100 [00:13<00:00,  7.28it/s]\n",
      "100%|██████████| 100/100 [00:13<00:00,  7.41it/s]\n",
      "100%|██████████| 100/100 [00:16<00:00,  6.06it/s]\n",
      "100%|██████████| 100/100 [00:20<00:00,  4.82it/s]\n",
      "100%|██████████| 100/100 [00:17<00:00,  5.80it/s]\n",
      "100%|██████████| 100/100 [00:12<00:00,  7.84it/s]\n",
      "100%|██████████| 100/100 [00:09<00:00, 10.99it/s]\n",
      "100%|██████████| 100/100 [00:08<00:00, 12.30it/s]\n"
     ]
    }
   ],
   "source": [
    "count_list = [0,1,2,5,10,20,50,100,200,500,1000]\n",
    "recalculate_list = [0,1000,500,200,100,50,20,10,5,2,1]\n",
    "\n",
    "all_SF_μ = []\n",
    "\n",
    "for count, recalculate in zip(count_list, recalculate_list):\n",
    "    part_μ = []\n",
    "    if count == recalculate == 0:\n",
    "        for i in range(times):\n",
    "            g = load_graph(f\"~/o_t_hayashilab/complex_networks_2024/N={Node}/Network_data/SF/initial/{i}.gt.gz\")\n",
    "            \n",
    "            μ, fiedler_vector = no_normalized_laplacian(g)\n",
    "            \n",
    "            part_μ.append(μ)\n",
    "    \n",
    "        ave_μ = np.mean(part_μ)\n",
    "    \n",
    "        all_SF_μ.append(ave_μ)\n",
    "        \n",
    "    else: \n",
    "        for i in tqdm(range(times)):\n",
    "            g = load_graph(f\"~/o_t_hayashilab/complex_networks_2024/N={Node}/another_Network_data/SF/c={count}_re={recalculate}/{i}.gt.gz\")\n",
    "            \n",
    "            μ, fiedler_vector = no_normalized_laplacian(g)\n",
    "            \n",
    "            part_μ.append(μ)\n",
    "        \n",
    "        ave_μ = np.mean(part_μ)\n",
    "        \n",
    "        all_SF_μ.append(ave_μ)\n",
    "        \n",
    "all_ER_μ = []\n",
    "\n",
    "for count, recalculate in zip(count_list, recalculate_list):\n",
    "    part_μ = []\n",
    "    if count == recalculate == 0:\n",
    "        for i in range(times):\n",
    "            g = load_graph(f\"~/o_t_hayashilab/complex_networks_2024/N=1000/Network_data/ER/initial/{i}.gt.gz\")\n",
    "            \n",
    "            μ, fiedler_vector = no_normalized_laplacian(g)\n",
    "            \n",
    "            part_μ.append(μ)\n",
    "    \n",
    "        ave_μ = np.mean(part_μ)\n",
    "    \n",
    "        all_ER_μ.append(ave_μ)\n",
    "        \n",
    "    else: \n",
    "        for i in tqdm(range(times)):\n",
    "            g = load_graph(f\"~/o_t_hayashilab/complex_networks_2024/N={Node}/another_Network_data/ER/c={count}_re={recalculate}/{i}.gt.gz\")\n",
    "            \n",
    "            μ, fiedler_vector = no_normalized_laplacian(g)\n",
    "            \n",
    "            part_μ.append(μ)\n",
    "        \n",
    "        ave_μ = np.mean(part_μ)\n",
    "        \n",
    "        all_ER_μ.append(ave_μ)"
   ],
   "metadata": {
    "collapsed": false,
    "ExecuteTime": {
     "end_time": "2024-10-14T17:00:13.641663362Z",
     "start_time": "2024-10-14T16:53:33.787948471Z"
    }
   },
   "id": "264ef35781605c52",
   "execution_count": 4
  },
  {
   "cell_type": "code",
   "outputs": [],
   "source": [
    "#チェーン構造を解消するためのリワイヤリングコード\n",
    "def rewire_network(g, rewiring_times):\n",
    "    #print(\"random_rewire開始\")\n",
    "    gt.random_rewire(g, model = \"configuration\", n_iter = rewiring_times, edge_sweep=True)\n",
    "    #print(\"random_rewire終了\")\n",
    "    return g\n",
    "\n",
    "# Define function to check sum_u\n",
    "def check_sum_u(g, target_sum):\n",
    "    l = gt.label_largest_component(g)\n",
    "    u = gt.GraphView(g, vfilt=l)\n",
    "    sum_u = u.num_vertices()\n",
    "    return sum_u == target_sum"
   ],
   "metadata": {
    "collapsed": false,
    "ExecuteTime": {
     "end_time": "2024-10-14T17:00:13.683433307Z",
     "start_time": "2024-10-14T17:00:13.640013648Z"
    }
   },
   "id": "3eeb54e1671f61eb",
   "execution_count": 5
  },
  {
   "cell_type": "code",
   "outputs": [
    {
     "name": "stderr",
     "output_type": "stream",
     "text": [
      "100%|██████████| 100/100 [00:55<00:00,  1.81it/s]\n",
      "100%|██████████| 100/100 [00:47<00:00,  2.12it/s]\n",
      "100%|██████████| 100/100 [00:52<00:00,  1.91it/s]\n",
      "100%|██████████| 100/100 [00:46<00:00,  2.16it/s]\n",
      "100%|██████████| 100/100 [01:20<00:00,  1.25it/s]\n",
      "100%|██████████| 100/100 [00:46<00:00,  2.15it/s]\n",
      "100%|██████████| 100/100 [04:24<00:00,  2.65s/it]\n",
      "100%|██████████| 100/100 [00:46<00:00,  2.14it/s]\n",
      "100%|██████████| 100/100 [24:05<00:00, 14.45s/it]\n",
      "100%|██████████| 100/100 [00:51<00:00,  1.96it/s]\n",
      "100%|██████████| 100/100 [36:25<00:00, 21.86s/it] \n",
      "100%|██████████| 100/100 [01:07<00:00,  1.48it/s]\n",
      "100%|██████████| 100/100 [40:27<00:00, 24.28s/it]\n",
      "100%|██████████| 100/100 [01:22<00:00,  1.21it/s]\n",
      "100%|██████████| 100/100 [1:38:00<00:00, 58.81s/it]  \n",
      "100%|██████████| 100/100 [03:31<00:00,  2.12s/it]\n",
      "100%|██████████| 100/100 [7:21:32<00:00, 264.93s/it]   \n",
      "100%|██████████| 100/100 [19:33<00:00, 11.73s/it]  \n",
      "100%|██████████| 100/100 [00:27<00:00,  3.63it/s]\n",
      "100%|██████████| 100/100 [00:39<00:00,  2.54it/s]\n"
     ]
    }
   ],
   "source": [
    "SF_config = []\n",
    "ER_config = []\n",
    "count_list = [1,2,5,10,20,50,100,200,500,1000]\n",
    "recalculate_list = [1000,500,200,100,50,20,10,5,2,1]\n",
    "\n",
    "for count, recalculate in zip(count_list, recalculate_list):\n",
    "    for net in name_list:\n",
    "        config = []\n",
    "        for i in tqdm(range(times)):\n",
    "            if \"SF\" in net:\n",
    "                while True:\n",
    "                    g = load_graph(f\"~/o_t_hayashilab/complex_networks_2024/N={Node}/another_Network_data/SF/c={count}_re={recalculate}/{i}.gt.gz\")\n",
    "                    # 初期グラフを保存する前にコピーする\n",
    "                    G = g.copy()\n",
    "                    G = rewire_network(G, Node)\n",
    "                    if check_sum_u(G, Node):\n",
    "                        break\n",
    "                config.append(G)\n",
    "            \n",
    "            else:\n",
    "                while True:\n",
    "                    g = load_graph(f\"~/o_t_hayashilab/complex_networks_2024/N={Node}/another_Network_data/ER/c={count}_re={recalculate}/{i}.gt.gz\")\n",
    "                    # 初期グラフを保存する前にコピーする\n",
    "                    G = g.copy()\n",
    "                    G = rewire_network(G, Node)\n",
    "                    if check_sum_u(G, Node):\n",
    "                        break\n",
    "                config.append(G)\n",
    "                \n",
    "        if \"SF\" in net:\n",
    "            SF_config.append(config)\n",
    "        else:\n",
    "            ER_config.append(config)"
   ],
   "metadata": {
    "collapsed": false,
    "ExecuteTime": {
     "end_time": "2024-10-15T04:18:58.120215101Z",
     "start_time": "2024-10-14T17:00:13.683275451Z"
    }
   },
   "id": "e410cb63af402a72",
   "execution_count": 6
  },
  {
   "cell_type": "code",
   "outputs": [],
   "source": [
    "all_SF_config_μ = []\n",
    "part_μ = []\n",
    "for i in range(len(SF_config)):\n",
    "    for j in range(times):\n",
    "        \n",
    "        g = SF_config[i][j]\n",
    "        μ, fiedler_vector = no_normalized_laplacian(g)\n",
    "    \n",
    "        part_μ.append(μ)\n",
    "\n",
    "    ave_μ = np.mean(part_μ)\n",
    "\n",
    "    all_SF_config_μ.append(ave_μ)\n",
    "        \n",
    "all_ER_config_μ = []\n",
    "for i in range(len(ER_config)):\n",
    "    part_μ = []\n",
    "    for j in range(times):\n",
    "        \n",
    "        g = ER_config[i][j]\n",
    "        μ, fiedler_vector = no_normalized_laplacian(g)\n",
    "    \n",
    "        part_μ.append(μ)\n",
    "\n",
    "    ave_μ = np.mean(part_μ)\n",
    "\n",
    "    all_ER_config_μ.append(ave_μ)"
   ],
   "metadata": {
    "collapsed": false,
    "ExecuteTime": {
     "end_time": "2024-10-15T04:23:33.440282782Z",
     "start_time": "2024-10-15T04:18:58.136265204Z"
    }
   },
   "id": "2cef26fc438cfae4",
   "execution_count": 7
  },
  {
   "cell_type": "code",
   "outputs": [
    {
     "data": {
      "text/plain": "[0.20220013901014172,\n 0.6614271568853476,\n 0.5729613101923926,\n 0.4724001128163193,\n 0.40521545814527704,\n 0.34148642528652623,\n 0.2920853332137981,\n 0.261966939952517,\n 0.22890856315454208,\n 0.18008064691052514,\n 0.47115342724872455]"
     },
     "execution_count": 8,
     "metadata": {},
     "output_type": "execute_result"
    }
   ],
   "source": [
    "all_SF_μ"
   ],
   "metadata": {
    "collapsed": false,
    "ExecuteTime": {
     "end_time": "2024-10-15T04:23:33.505132042Z",
     "start_time": "2024-10-15T04:23:33.452596969Z"
    }
   },
   "id": "c0524dbf6c71c34f",
   "execution_count": 8
  },
  {
   "cell_type": "code",
   "outputs": [
    {
     "data": {
      "text/plain": "[0.31351165833382705,\n 0.6425318237859643,\n 0.5800659611064447,\n 0.46399623925752365,\n 0.3922334769737067,\n 0.34134905761705725,\n 0.3052921683217404,\n 0.269082262684815,\n 0.22433771061500285,\n 0.17396780481411372,\n 0.467311947344693]"
     },
     "execution_count": 9,
     "metadata": {},
     "output_type": "execute_result"
    }
   ],
   "source": [
    "all_ER_μ"
   ],
   "metadata": {
    "collapsed": false,
    "ExecuteTime": {
     "end_time": "2024-10-15T04:23:33.505704186Z",
     "start_time": "2024-10-15T04:23:33.452949226Z"
    }
   },
   "id": "2033f4d1558a9407",
   "execution_count": 9
  },
  {
   "cell_type": "code",
   "outputs": [
    {
     "name": "stderr",
     "output_type": "stream",
     "text": [
      "The PostScript backend does not support transparency; partially transparent artists will be rendered opaque.\n"
     ]
    },
    {
     "data": {
      "text/plain": "<Figure size 1000x600 with 1 Axes>",
      "image/png": "[encoded data removed]"
     },
     "metadata": {},
     "output_type": "display_data"
    },
    {
     "name": "stdout",
     "output_type": "stream",
     "text": [
      "R_SF: [0.20220013901014172, 0.6614271568853476, 0.5729613101923926, 0.4724001128163193, 0.40521545814527704, 0.34148642528652623, 0.2920853332137981, 0.261966939952517, 0.22890856315454208, 0.18008064691052514, 0.47115342724872455]\n",
      "R_SF_config: [0.2316877071390056, 0.23178006025173345, 0.2122734647321459, 0.19403241148736314, 0.17915906130463702, 0.16920399486962315, 0.1615877164940729, 0.15730758037754278, 0.1570638722140044, 0.18150573391718103]\n",
      "R_ER: [0.31351165833382705, 0.6425318237859643, 0.5800659611064447, 0.46399623925752365, 0.3922334769737067, 0.34134905761705725, 0.3052921683217404, 0.269082262684815, 0.22433771061500285, 0.17396780481411372, 0.467311947344693]\n",
      "R_ER_config: [0.4283553784181812, 0.4678587292220497, 0.3659955547212153, 0.279831360547498, 0.21847113542886124, 0.17235640103072303, 0.15952422932478483, 0.1502065846372532, 0.16742191424870953, 0.3830492017510384]\n"
     ]
    }
   ],
   "source": [
    "import matplotlib.pyplot as plt\n",
    "import numpy as np\n",
    "\n",
    "# x軸のラベル (initial を削除)\n",
    "x_labels = ['1 × 1000', '2 × 500', '5 × 200', '10 × 100', '20 × 50', '50 × 20', '100 × 10', '200 × 5', '500 × 2', '1000 × 1']\n",
    "\n",
    "# 各グラフのx値を設定\n",
    "x_indices = list(range(len(x_labels)))\n",
    "\n",
    "# Create the plot\n",
    "plt.figure(figsize=(10, 6))\n",
    "\n",
    "# Plot the rest of the values for 5, 10, 50, 100, 200, 500\n",
    "x_sf_l = np.array(x_indices) - 0.3  # 左にずらす\n",
    "y_sf_l = all_SF_μ[1:]\n",
    "x_sf_config = np.array(x_indices) - 0.15  # 少し左にずらす\n",
    "y_sf_config = all_SF_config_μ\n",
    "x_er_l = np.array(x_indices) + 0.15  # 少し右にずらす\n",
    "y_er_l = all_ER_μ[1:]\n",
    "x_er_config = np.array(x_indices) + 0.3  # 右にずらす\n",
    "y_er_config = all_ER_config_μ\n",
    "\n",
    "# Plot the bars\n",
    "bar_sf_l = plt.bar(x_sf_l, y_sf_l, width=0.15, color='pink', label='SF:rewire')\n",
    "bar_sf_config = plt.bar(x_sf_config, y_sf_config, width=0.15, color='purple', label='SF:config')\n",
    "bar_er_l = plt.bar(x_er_l, y_er_l, width=0.15, color='cyan', label='ER:rewire')\n",
    "bar_er_config = plt.bar(x_er_config, y_er_config, width=0.15, color='green', label='ER:config')\n",
    "\n",
    "# Adding horizontal lines for initial values (dashed)\n",
    "plt.axhline(y=all_SF_μ[0], color='red', linestyle='--', linewidth=1, label='SF:initial')\n",
    "plt.axhline(y=all_ER_μ[0], color='blue', linestyle='--', linewidth=1, label='ER:initial')\n",
    "\n",
    "# Labeling the x-axis\n",
    "plt.xticks(ticks=x_indices, labels=x_labels)\n",
    "\n",
    "# Adding titles and labels\n",
    "plt.xlabel(r'$l \\times c$', fontsize=20)\n",
    "plt.ylabel(r\"$μ_{2}$\", fontsize=20)\n",
    "\n",
    "# Placing the legend outside the plot on the top center\n",
    "handles, labels = plt.gca().get_legend_handles_labels()\n",
    "order = [0, 1, 2, 4, 3, 5]\n",
    "plt.legend([handles[idx] for idx in order], \n",
    "           ['SF:initial', 'ER:initial', 'SF:rewire', 'ER:rewire', 'SF:config', 'ER:config'], \n",
    "           loc='upper center', bbox_to_anchor=(0.5, 1.16), ncol=3, fontsize=14)\n",
    "\n",
    "# 保存先のディレクトリを指定\n",
    "save_dir = os.path.expanduser('~/o_t_hayashilab/complex_networks_2024/figure/')\n",
    "os.makedirs(save_dir, exist_ok=True)  # ディレクトリが存在しない場合は作成\n",
    "# EPS形式で図を保存（フルパスを指定）\n",
    "save_path = os.path.join(save_dir, f\"another_eigenvalue.eps\")\n",
    "plt.savefig(save_path, format='eps', bbox_inches='tight')\n",
    "\n",
    "# Show plot\n",
    "plt.show()\n",
    "\n",
    "# Print results\n",
    "print(\"R_SF:\", all_SF_μ)\n",
    "print(\"R_SF_config:\", all_SF_config_μ)\n",
    "print(\"R_ER:\", all_ER_μ)\n",
    "print(\"R_ER_config:\", all_ER_config_μ)"
   ],
   "metadata": {
    "collapsed": false,
    "ExecuteTime": {
     "end_time": "2024-10-15T04:23:33.886629075Z",
     "start_time": "2024-10-15T04:23:33.465068841Z"
    }
   },
   "id": "cad796734272acfe",
   "execution_count": 10
  },
  {
   "cell_type": "code",
   "outputs": [],
   "source": [
    "R_SF = []\n",
    "R_ER = []\n",
    "count_list = [0,1,2,5,10,20,50,100,200,500,1000]\n",
    "recalculate_list = [0,1000,500,200,100,50,20,10,5,2,1]\n",
    "\n",
    "for net in name_list:\n",
    "    for count, recalculate in zip(count_list, recalculate_list):\n",
    "        IB = []\n",
    "        if count == recalculate == 0:\n",
    "            for i in range(times):\n",
    "                g = load_graph(f\"~/o_t_hayashilab/complex_networks_2024/N={Node}/Network_data/{net}/initial/{i}.gt.gz\")\n",
    "                \n",
    "                G = g.copy()\n",
    "                \n",
    "                vertex_IB_list, edge_IB_list = gt.betweenness(G)\n",
    "                vertex_list = [v for v in G.vertices()]\n",
    "                randomized_vertex_list = list(range(0, len(vertex_list)))\n",
    "                random.shuffle(randomized_vertex_list)\n",
    "                combined_vertex_list = list(zip(vertex_list, vertex_IB_list, randomized_vertex_list))\n",
    "                sorted_combined_vertex_list = sorted(combined_vertex_list, key=lambda v: (v[1], v[2]))\n",
    "                IB_rewiring_g = [v for (v, s, t) in sorted_combined_vertex_list]\n",
    "        \n",
    "                sizes, comp = gt.vertex_percolation(G, IB_rewiring_g)\n",
    "                betweenness_attack = [frc for frc in sizes]\n",
    "                perc = np.array(betweenness_attack)\n",
    "                perc = perc / Node\n",
    "                IB.append(perc)\n",
    "        \n",
    "            IB_avg = np.mean(IB, axis=0)\n",
    "            R = simpson(IB_avg, dx=1/Node)\n",
    "            if \"SF\" in net:\n",
    "                R_SF.append(R)\n",
    "            else:\n",
    "                R_ER.append(R)\n",
    "        else:\n",
    "            for i in range(times):\n",
    "                g = load_graph(f\"~/o_t_hayashilab/complex_networks_2024/N={Node}/another_Network_data/{net}/c={count}_re={recalculate}/{i}.gt.gz\")\n",
    "                \n",
    "                G = g.copy()\n",
    "                \n",
    "                vertex_IB_list, edge_IB_list = gt.betweenness(G)\n",
    "                vertex_list = [v for v in G.vertices()]\n",
    "                randomized_vertex_list = list(range(0, len(vertex_list)))\n",
    "                random.shuffle(randomized_vertex_list)\n",
    "                combined_vertex_list = list(zip(vertex_list, vertex_IB_list, randomized_vertex_list))\n",
    "                sorted_combined_vertex_list = sorted(combined_vertex_list, key=lambda v: (v[1], v[2]))\n",
    "                IB_rewiring_g = [v for (v, s, t) in sorted_combined_vertex_list]\n",
    "        \n",
    "                sizes, comp = gt.vertex_percolation(G, IB_rewiring_g)\n",
    "                betweenness_attack = [frc for frc in sizes]\n",
    "                perc = np.array(betweenness_attack)\n",
    "                perc = perc / Node\n",
    "                IB.append(perc)\n",
    "        \n",
    "            IB_avg = np.mean(IB, axis=0)\n",
    "            R = simpson(IB_avg, dx=1/Node)\n",
    "            if \"SF\" in net:\n",
    "                R_SF.append(R)\n",
    "            else:\n",
    "                R_ER.append(R)"
   ],
   "metadata": {
    "collapsed": false,
    "ExecuteTime": {
     "end_time": "2024-10-15T04:24:05.462877404Z",
     "start_time": "2024-10-15T04:23:33.907772767Z"
    }
   },
   "id": "6582ed106f0ce785",
   "execution_count": 11
  },
  {
   "cell_type": "code",
   "outputs": [
    {
     "data": {
      "text/plain": "[0.1285668133333333,\n 0.24945565333333333,\n 0.2514706491666666,\n 0.21534197083333337,\n 0.16080487083333334,\n 0.12124276249999998,\n 0.08167960083333332,\n 0.06770867416666665,\n 0.06062319583333333,\n 0.057734088333333336,\n 0.040171369166666665]"
     },
     "execution_count": 12,
     "metadata": {},
     "output_type": "execute_result"
    }
   ],
   "source": [
    "R_SF"
   ],
   "metadata": {
    "collapsed": false,
    "ExecuteTime": {
     "end_time": "2024-10-15T04:24:05.470142978Z",
     "start_time": "2024-10-15T04:24:05.462534952Z"
    }
   },
   "id": "9023a04f954128a5",
   "execution_count": 12
  },
  {
   "cell_type": "code",
   "outputs": [
    {
     "data": {
      "text/plain": "[0.27623813999999997,\n 0.32664632166666663,\n 0.3195093441666666,\n 0.2849457533333333,\n 0.2422308258333333,\n 0.21070945583333328,\n 0.18439958,\n 0.169368165,\n 0.15866950083333337,\n 0.14504630249999997,\n 0.08698880083333332]"
     },
     "execution_count": 13,
     "metadata": {},
     "output_type": "execute_result"
    }
   ],
   "source": [
    "R_ER"
   ],
   "metadata": {
    "collapsed": false,
    "ExecuteTime": {
     "end_time": "2024-10-15T04:24:05.473895951Z",
     "start_time": "2024-10-15T04:24:05.463182941Z"
    }
   },
   "id": "aa7111cf73244c0c",
   "execution_count": 13
  },
  {
   "cell_type": "code",
   "outputs": [],
   "source": [
    "R_SF_config = []\n",
    "R_ER_config = []\n",
    "\n",
    "for net in name_list:\n",
    "    \n",
    "    for i in range(len(SF_config)):\n",
    "        IB = []\n",
    "        for j in range(times):\n",
    "            if \"SF\" in net:\n",
    "                g = SF_config[i][j]\n",
    "                \n",
    "            else:\n",
    "                g = ER_config[i][j]\n",
    "                \n",
    "            G = g.copy()\n",
    "            \n",
    "            vertex_IB_list, edge_IB_list = gt.betweenness(G)\n",
    "            vertex_list = [v for v in G.vertices()]\n",
    "            randomized_vertex_list = list(range(0, len(vertex_list)))\n",
    "            random.shuffle(randomized_vertex_list)\n",
    "            combined_vertex_list = list(zip(vertex_list, vertex_IB_list, randomized_vertex_list))\n",
    "            sorted_combined_vertex_list = sorted(combined_vertex_list, key=lambda v: (v[1], v[2]))\n",
    "            IB_rewiring_g = [v for (v, s, t) in sorted_combined_vertex_list]\n",
    "    \n",
    "            sizes, comp = gt.vertex_percolation(G, IB_rewiring_g)\n",
    "            betweenness_attack = [frc for frc in sizes]\n",
    "            perc = np.array(betweenness_attack)\n",
    "            perc = perc / Node\n",
    "            IB.append(perc)\n",
    "    \n",
    "        IB_avg = np.mean(IB, axis=0)\n",
    "        R = simpson(IB_avg, dx=1/Node)\n",
    "        \n",
    "        if \"SF\" in net:\n",
    "            R_SF_config.append(R)\n",
    "        else:\n",
    "            R_ER_config.append(R)"
   ],
   "metadata": {
    "collapsed": false,
    "ExecuteTime": {
     "end_time": "2024-10-15T04:24:36.115817908Z",
     "start_time": "2024-10-15T04:24:05.463673856Z"
    }
   },
   "id": "fbc724bd9843d9ed",
   "execution_count": 14
  },
  {
   "cell_type": "code",
   "outputs": [
    {
     "name": "stderr",
     "output_type": "stream",
     "text": [
      "The PostScript backend does not support transparency; partially transparent artists will be rendered opaque.\n"
     ]
    },
    {
     "data": {
      "text/plain": "<Figure size 1000x600 with 1 Axes>",
      "image/png": "[encoded data removed]"
     },
     "metadata": {},
     "output_type": "display_data"
    }
   ],
   "source": [
    "import matplotlib.pyplot as plt\n",
    "import numpy as np\n",
    "\n",
    "# x軸のラベル (initial を削除)\n",
    "x_labels = ['1 × 1000', '2 × 500', '5 × 200', '10 × 100', '20 × 50', '50 × 20', '100 × 10', '200 × 5', '500 × 2', '1000 × 1']\n",
    "\n",
    "# 各グラフのx値を設定\n",
    "x_indices = list(range(len(x_labels)))\n",
    "\n",
    "# Create the plot\n",
    "plt.figure(figsize=(10, 6))\n",
    "\n",
    "# Plot the rest of the values for 5, 10, 50, 100, 200, 500\n",
    "x_sf_l = np.array(x_indices) - 0.3  # 左にずらす\n",
    "y_sf_l = R_SF[1:]\n",
    "x_sf_config = np.array(x_indices) - 0.15  # 少し左にずらす\n",
    "y_sf_config = R_SF_config\n",
    "x_er_l = np.array(x_indices) + 0.15  # 少し右にずらす\n",
    "y_er_l = R_ER[1:]\n",
    "x_er_config = np.array(x_indices) + 0.3  # 右にずらす\n",
    "y_er_config = R_ER_config\n",
    "\n",
    "# Plot the bars\n",
    "bar_sf_l = plt.bar(x_sf_l, y_sf_l, width=0.15, color='pink', label='SF:rewire')\n",
    "bar_sf_config = plt.bar(x_sf_config, y_sf_config, width=0.15, color='purple', label='SF:config')\n",
    "bar_er_l = plt.bar(x_er_l, y_er_l, width=0.15, color='cyan', label='ER:rewire')\n",
    "bar_er_config = plt.bar(x_er_config, y_er_config, width=0.15, color='green', label='ER:config')\n",
    "\n",
    "# Adding horizontal lines for initial values (dashed)\n",
    "plt.axhline(y=R_SF[0], color='red', linestyle='--', linewidth=1, label='SF:initial')\n",
    "plt.axhline(y=R_ER[0], color='blue', linestyle='--', linewidth=1, label='ER:initial')\n",
    "\n",
    "# Labeling the x-axis\n",
    "plt.xticks(ticks=x_indices, labels=x_labels)\n",
    "\n",
    "# Adding titles and labels\n",
    "plt.xlabel(r'$l \\times c$', fontsize=20)\n",
    "plt.ylabel(r\"$R$\", fontsize=20)\n",
    "\n",
    "# Placing the legend outside the plot on the top center\n",
    "handles, labels = plt.gca().get_legend_handles_labels()\n",
    "order = [0, 1, 2, 4, 3, 5]\n",
    "plt.legend([handles[idx] for idx in order], \n",
    "           ['SF:initial', 'ER:initial', 'SF:rewire', 'ER:rewire', 'SF:config', 'ER:config'], \n",
    "           loc='upper center', bbox_to_anchor=(0.5, 1.16), ncol=3, fontsize=14)\n",
    "\n",
    "# 保存先のディレクトリを指定\n",
    "save_dir = os.path.expanduser('~/o_t_hayashilab/complex_networks_2024/figure/')\n",
    "os.makedirs(save_dir, exist_ok=True)  # ディレクトリが存在しない場合は作成\n",
    "# EPS形式で図を保存（フルパスを指定）\n",
    "save_path = os.path.join(save_dir, f\"another_R^IB.eps\")\n",
    "plt.savefig(save_path, format='eps', bbox_inches='tight')\n",
    "\n",
    "# Show plot\n",
    "plt.show()"
   ],
   "metadata": {
    "collapsed": false,
    "ExecuteTime": {
     "end_time": "2024-10-15T04:24:36.368844175Z",
     "start_time": "2024-10-15T04:24:36.115502970Z"
    }
   },
   "id": "86fa23cb924e635",
   "execution_count": 15
  },
  {
   "cell_type": "code",
   "outputs": [],
   "source": [
    "from scipy.stats import pearsonr\n",
    "# 単相関係数を計算して表示する関数\n",
    "def calculate_and_display_correlation(x_values, y_values, label):\n",
    "    correlation, _ = pearsonr(x_values, y_values)\n",
    "    print(f\"{label} の単相関係数: {correlation:.4f}\")\n",
    "    return correlation"
   ],
   "metadata": {
    "collapsed": false,
    "ExecuteTime": {
     "end_time": "2024-10-15T04:24:36.478408352Z",
     "start_time": "2024-10-15T04:24:36.368303732Z"
    }
   },
   "id": "9bcc2dffc629ffb6",
   "execution_count": 16
  },
  {
   "cell_type": "code",
   "outputs": [
    {
     "name": "stdout",
     "output_type": "stream",
     "text": [
      "SF:rewire の単相関係数: 0.8118\n"
     ]
    },
    {
     "ename": "NameError",
     "evalue": "name 'plot_correlation' is not defined",
     "output_type": "error",
     "traceback": [
      "\u001B[0;31m---------------------------------------------------------------------------\u001B[0m",
      "\u001B[0;31mNameError\u001B[0m                                 Traceback (most recent call last)",
      "Cell \u001B[0;32mIn[17], line 3\u001B[0m\n\u001B[1;32m      1\u001B[0m \u001B[38;5;66;03m# SF:rewire の散布図と単相関係数\u001B[39;00m\n\u001B[1;32m      2\u001B[0m correlation_SF_rewire \u001B[38;5;241m=\u001B[39m calculate_and_display_correlation(all_SF_μ[\u001B[38;5;241m1\u001B[39m:], R_SF[\u001B[38;5;241m1\u001B[39m:], label\u001B[38;5;241m=\u001B[39m\u001B[38;5;124m'\u001B[39m\u001B[38;5;124mSF:rewire\u001B[39m\u001B[38;5;124m'\u001B[39m)\n\u001B[0;32m----> 3\u001B[0m \u001B[43mplot_correlation\u001B[49m(all_SF_μ[\u001B[38;5;241m1\u001B[39m:], R_SF[\u001B[38;5;241m1\u001B[39m:], label\u001B[38;5;241m=\u001B[39m\u001B[38;5;124m'\u001B[39m\u001B[38;5;124mSF:rewire\u001B[39m\u001B[38;5;124m'\u001B[39m, color\u001B[38;5;241m=\u001B[39m\u001B[38;5;124m'\u001B[39m\u001B[38;5;124mpink\u001B[39m\u001B[38;5;124m'\u001B[39m, size\u001B[38;5;241m=\u001B[39m\u001B[38;5;241m75\u001B[39m)\n\u001B[1;32m      5\u001B[0m \u001B[38;5;66;03m# ER:rewire の散布図と単相関係数\u001B[39;00m\n\u001B[1;32m      6\u001B[0m correlation_ER_rewire \u001B[38;5;241m=\u001B[39m calculate_and_display_correlation(all_ER_μ[\u001B[38;5;241m1\u001B[39m:], R_ER[\u001B[38;5;241m1\u001B[39m:], label\u001B[38;5;241m=\u001B[39m\u001B[38;5;124m'\u001B[39m\u001B[38;5;124mER:rewire\u001B[39m\u001B[38;5;124m'\u001B[39m)\n",
      "\u001B[0;31mNameError\u001B[0m: name 'plot_correlation' is not defined"
     ]
    }
   ],
   "source": [
    "# SF:rewire の散布図と単相関係数\n",
    "correlation_SF_rewire = calculate_and_display_correlation(all_SF_μ[1:], R_SF[1:], label='SF:rewire')\n",
    "plot_correlation(all_SF_μ[1:], R_SF[1:], label='SF:rewire', color='pink', size=75)\n",
    "\n",
    "# ER:rewire の散布図と単相関係数\n",
    "correlation_ER_rewire = calculate_and_display_correlation(all_ER_μ[1:], R_ER[1:], label='ER:rewire')\n",
    "plot_correlation(all_ER_μ[1:], R_ER[1:], label='ER:rewire', color='cyan', size=75)\n",
    "\n",
    "# SF:config の散布図と単相関係数\n",
    "correlation_SF_config = calculate_and_display_correlation(all_SF_config_μ, R_SF_config, label='SF:config')\n",
    "plot_correlation(all_SF_config_μ, R_SF_config, label='SF:config', color='purple', marker='^', size=75)\n",
    "\n",
    "# ER:config の散布図と単相関係数\n",
    "correlation_ER_config = calculate_and_display_correlation(all_ER_config_μ, R_ER_config, label='ER:config')\n",
    "plot_correlation(all_ER_config_μ, R_ER_config, label='ER:config', color='green', marker='^', size=75)\n",
    "\n",
    "# 軸ラベルの設定\n",
    "plt.xlabel(r\"$μ_{2}$\", fontsize=20)\n",
    "plt.ylabel(r\"$R$\", fontsize=20)\n",
    "\n",
    "# x軸の範囲を設定（0から最大値+0.05）\n",
    "plt.xlim(0, max(max(all_SF_μ[1:]), max(all_SF_config_μ), max(all_ER_μ[1:]), max(all_ER_config_μ)) + 0.05)\n",
    "\n",
    "# y軸の範囲を設定（0から最大値+0.05）\n",
    "plt.ylim(0, max(max(R_SF[1:]), max(R_SF_config), max(R_ER[1:]), max(R_ER_config)) + 0.05)\n",
    "\n",
    "# 凡例の設定（上に2×2で配置）\n",
    "plt.legend(loc='upper center', fontsize=14, bbox_to_anchor=(0.5, 1.16), ncol=2)\n",
    "\n",
    "# プロットの表示\n",
    "plt.show()"
   ],
   "metadata": {
    "collapsed": false,
    "ExecuteTime": {
     "end_time": "2024-10-15T04:24:36.560132894Z",
     "start_time": "2024-10-15T04:24:36.410011495Z"
    }
   },
   "id": "a7a78a02b37c8b8b",
   "execution_count": 17
  },
  {
   "cell_type": "code",
   "outputs": [
    {
     "name": "stderr",
     "output_type": "stream",
     "text": [
      "The PostScript backend does not support transparency; partially transparent artists will be rendered opaque.\n"
     ]
    },
    {
     "data": {
      "text/plain": "<Figure size 1000x600 with 1 Axes>",
      "image/png": "[encoded data removed]"
     },
     "metadata": {},
     "output_type": "display_data"
    }
   ],
   "source": [
    "import matplotlib.pyplot as plt\n",
    "\n",
    "# 散布図を作成する関数（点線のプロットを除去）\n",
    "def plot_correlation(x_values, y_values, label, color, marker='o', size=100):  # size引数を追加\n",
    "    plt.scatter(x_values, y_values, label=label, color=color, marker=marker, s=size)\n",
    "\n",
    "# 散布図を作成\n",
    "plt.figure(figsize=(10, 6))\n",
    "\n",
    "# SF:rewire の散布図\n",
    "plot_correlation(all_SF_μ[1:], R_SF[1:], label='SF:rewire', color='pink', size=75)\n",
    "\n",
    "# ER:rewire の散布図\n",
    "plot_correlation(all_ER_μ[1:], R_ER[1:], label='ER:rewire', color='cyan', size=75)\n",
    "\n",
    "# SF:config の散布図\n",
    "plot_correlation(all_SF_config_μ, R_SF_config, label='SF:config', color='purple', marker='^', size=75)\n",
    "\n",
    "# ER:config の散布図\n",
    "plot_correlation(all_ER_config_μ, R_ER_config, label='ER:config', color='green', marker='^', size=75)\n",
    "\n",
    "# 軸ラベルの設定\n",
    "plt.xlabel(r\"$μ_{2}$\", fontsize=20)\n",
    "plt.ylabel(r\"$R$\", fontsize=20)\n",
    "\n",
    "# x軸の範囲を設定（0から最大値+0.05）\n",
    "plt.xlim(0, max(max(all_SF_μ[1:]), max(all_SF_config_μ), max(all_ER_μ[1:]), max(all_ER_config_μ)) + 0.05)\n",
    "\n",
    "# y軸の範囲を設定（0から最大値+0.05）\n",
    "plt.ylim(0, max(max(R_SF[1:]), max(R_SF_config), max(R_ER[1:]), max(R_ER_config)) + 0.05)\n",
    "\n",
    "# 凡例の設定（上に2×2で配置）\n",
    "plt.legend(loc='upper center', fontsize=14, bbox_to_anchor=(0.5, 1.16), ncol=2)\n",
    "\n",
    "# 保存先のディレクトリを指定\n",
    "save_dir = os.path.expanduser('~/o_t_hayashilab/complex_networks_2024/figure/')\n",
    "os.makedirs(save_dir, exist_ok=True)  # ディレクトリが存在しない場合は作成\n",
    "# EPS形式で図を保存（フルパスを指定）\n",
    "save_path = os.path.join(save_dir, f\"another_mu2_R^IB_correlation.eps\")\n",
    "plt.savefig(save_path, format='eps', bbox_inches='tight')\n",
    "\n",
    "# プロットの表示\n",
    "plt.show()"
   ],
   "metadata": {
    "collapsed": false,
    "ExecuteTime": {
     "end_time": "2024-10-15T11:10:12.453040481Z",
     "start_time": "2024-10-15T11:10:12.202507570Z"
    }
   },
   "id": "cc3417ad1651e3d0",
   "execution_count": 18
  },
  {
   "cell_type": "code",
   "outputs": [],
   "source": [
    "var_SF = []\n",
    "var_ER = []\n",
    "for net in name_list:\n",
    "    for count, recalculate in zip(count_list, recalculate_list):\n",
    "        var = []\n",
    "        if count == recalculate == 0:\n",
    "            for i in range(times):\n",
    "                g = load_graph(f\"~/o_t_hayashilab/complex_networks_2024/N={Node}/Network_data/{net}/initial/{i}.gt.gz\")\n",
    "                                \n",
    "                G = g.copy()\n",
    "                \n",
    "                degrees = G.degree_property_map(\"total\").a\n",
    "                degrees_var = float(np.var(degrees))\n",
    "                \n",
    "                var.append(degrees_var)\n",
    "        \n",
    "            var_avg = np.mean(var, axis=0)\n",
    "            if \"SF\" in net:\n",
    "                var_SF.append(var_avg)\n",
    "            else:\n",
    "                var_ER.append(var_avg)\n",
    "        else:\n",
    "            for i in range(times):\n",
    "                g = load_graph(f\"~/o_t_hayashilab/complex_networks_2024/N={Node}/another_Network_data/{net}/c={count}_re={recalculate}/{i}.gt.gz\")\n",
    "                \n",
    "                G = g.copy()\n",
    "                \n",
    "                degrees = G.degree_property_map(\"total\").a\n",
    "                degrees_var = float(np.var(degrees))\n",
    "                \n",
    "                var.append(degrees_var)\n",
    "        \n",
    "            var_avg = np.mean(var, axis=0)\n",
    "            if \"SF\" in net:\n",
    "                var_SF.append(var_avg)\n",
    "            else:\n",
    "                var_ER.append(var_avg)"
   ],
   "metadata": {
    "collapsed": false,
    "ExecuteTime": {
     "end_time": "2024-10-15T11:10:37.378619975Z",
     "start_time": "2024-10-15T11:10:35.289614904Z"
    }
   },
   "id": "568f471fd099e70e",
   "execution_count": 19
  },
  {
   "cell_type": "code",
   "outputs": [],
   "source": [
    "var_SF_config = []\n",
    "var_ER_config = []\n",
    "for net in name_list:\n",
    "    for i in range(len(SF_config)):\n",
    "        var = []\n",
    "        for j in range(times):\n",
    "            if \"SF\" in net:\n",
    "                g = SF_config[i][j]\n",
    "                \n",
    "            else:\n",
    "                g = ER_config[i][j]\n",
    "            \n",
    "            G = g.copy()\n",
    "            \n",
    "            degrees = G.degree_property_map(\"total\").a\n",
    "            degrees_var = float(np.var(degrees))\n",
    "            \n",
    "            var.append(degrees_var)\n",
    "    \n",
    "        var_avg = np.mean(var, axis=0)\n",
    "        if \"SF\" in net:\n",
    "            var_SF_config.append(var_avg)\n",
    "        else:\n",
    "            var_ER_config.append(var_avg)"
   ],
   "metadata": {
    "collapsed": false,
    "ExecuteTime": {
     "end_time": "2024-10-15T11:10:40.335005512Z",
     "start_time": "2024-10-15T11:10:39.604192695Z"
    }
   },
   "id": "5825eacf5a428067",
   "execution_count": 20
  },
  {
   "cell_type": "code",
   "outputs": [
    {
     "name": "stdout",
     "output_type": "stream",
     "text": [
      "   l × c         SF         ER\n",
      " initial  27.906364   3.228204\n",
      "1 × 1000  14.889284   1.655064\n",
      " 2 × 500  11.173504   0.998384\n",
      " 5 × 200  12.895604   1.834924\n",
      "10 × 100  15.630804   3.551264\n",
      " 20 × 50  20.382244   7.756724\n",
      " 50 × 20  34.605944  23.296944\n",
      "100 × 10  60.845504  55.391364\n",
      " 200 × 5 122.197584 124.057184\n",
      " 500 × 2 384.791904 394.868524\n",
      "1000 × 1 944.085624 878.791324\n"
     ]
    }
   ],
   "source": [
    "import pandas as pd\n",
    "\n",
    "x_labels = ['initial', '1 × 1000', '2 × 500', '5 × 200', '10 × 100', '20 × 50', '50 × 20', '100 × 10', '200 × 5', '500 × 2', '1000 × 1']\n",
    "\n",
    "# 各データの準備\n",
    "data = {\n",
    "    'l × c': x_labels,\n",
    "    'SF': var_SF,\n",
    "    'ER': var_ER\n",
    "}\n",
    "\n",
    "# DataFrameの作成\n",
    "df = pd.DataFrame(data)\n",
    "\n",
    "# DataFrameをCSVファイルとして保存 (インデックスなし)\n",
    "df.to_csv('another_data_summary.csv', index=False)\n",
    "\n",
    "# インデックスなしでDataFrameを表示\n",
    "print(df.to_string(index=False))"
   ],
   "metadata": {
    "collapsed": false,
    "ExecuteTime": {
     "end_time": "2024-10-15T11:10:40.799235805Z",
     "start_time": "2024-10-15T11:10:40.794388372Z"
    }
   },
   "id": "3e06cb3442fd137",
   "execution_count": 21
  },
  {
   "cell_type": "code",
   "outputs": [],
   "source": [],
   "metadata": {
    "collapsed": false,
    "ExecuteTime": {
     "start_time": "2024-10-15T04:24:36.602097457Z"
    }
   },
   "id": "d5c706b28759591f",
   "execution_count": null
  }
 ],
 "metadata": {
  "kernelspec": {
   "display_name": "Python 3",
   "language": "python",
   "name": "python3"
  },
  "language_info": {
   "codemirror_mode": {
    "name": "ipython",
    "version": 2
   },
   "file_extension": ".py",
   "mimetype": "text/x-python",
   "name": "python",
   "nbconvert_exporter": "python",
   "pygments_lexer": "ipython2",
   "version": "2.7.6"
  }
 },
 "nbformat": 4,
 "nbformat_minor": 5
}
