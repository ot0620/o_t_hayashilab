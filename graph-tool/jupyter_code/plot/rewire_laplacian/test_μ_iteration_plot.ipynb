{
 "cells": [
  {
   "cell_type": "code",
   "outputs": [],
   "source": [
    "import numpy as np\n",
    "import os\n",
    "import matplotlib.pyplot as plt"
   ],
   "metadata": {
    "collapsed": false
   },
   "id": "5df5499e007e1d7",
   "execution_count": null
  },
  {
   "cell_type": "code",
   "outputs": [],
   "source": [
    "Node = 1000\n",
    "\n",
    "m = 2\n",
    "\n",
    "times = 100\n",
    "\n",
    "net_list = [\"SF\", \"ER\"]"
   ],
   "metadata": {
    "collapsed": false
   },
   "id": "cfa2288689417b30",
   "execution_count": null
  },
  {
   "cell_type": "code",
   "outputs": [],
   "source": [
    "count_list = [1, 2, 5, 10, 20]\n",
    "recalculate_list = [1000, 500, 200, 100, 50]\n",
    "name_list = [\"1 × 1000\", \"2 × 500\", \"5 × 200\", \"10 × 100\", \"20 × 50\"]"
   ],
   "metadata": {
    "collapsed": false
   },
   "id": "258cef21110ea4df",
   "execution_count": null
  },
  {
   "cell_type": "code",
   "outputs": [],
   "source": [
    "# 色のリスト\n",
    "colors = [\"red\", \"orange\", \"yellow\", \"green\", \"blue\", \"cyan\", \"purple\", (0.03, 0.18, 0.42), (0.4, 0, 0.4)]\n",
    "\n",
    "for net in net_list:\n",
    "    \n",
    "    plot_list = []\n",
    "    \n",
    "    for count, recalculate in zip(count_list, recalculate_list):\n",
    "        save_path = f\"~/o_t_hayashilab/complex_networks_2024/iteration_μ/{net}/c={count}_re={recalculate}.npy\"\n",
    "        plot_file = np.load(os.path.expanduser(save_path), allow_pickle=True)\n",
    "       \n",
    "        plot_list.append(plot_file)\n",
    "        \n",
    "    # Find the maximum length and the maximum y value for setting xlim and ylim\n",
    "    min_val = min([plot.min() for plot in plot_list])\n",
    "    max_len = max([len(plot.flatten()) for plot in plot_list])  # Max length of lists\n",
    "    max_val = max([plot.max() for plot in plot_list])  # Max value in all lists\n",
    "       \n",
    "    # Plot each list from plot_list\n",
    "    plt.figure(figsize=(10, 6))  # Adjust figure size\n",
    "    for i in range(len(plot_list)):\n",
    "        # Flatten the 2D array into 1D (if needed) and get the x-axis range\n",
    "        y = plot_list[i].flatten()  # Convert 2D array to 1D\n",
    "        x = range(len(y))  # Create x-axis values based on the length of y\n",
    "        \n",
    "        # Plot each set of data with corresponding label and color\n",
    "        plt.plot(x, y, label=f\"{net}:{name_list[i]}\", color=colors[i % len(colors)])\n",
    "    \n",
    "    # Set the title, labels, and legend\n",
    "    plt.xlabel(\"Iterations\")\n",
    "    plt.ylabel(r\"$μ_{2}$\")\n",
    "    plt.legend()\n",
    "    \n",
    "    # Set x and y axis limits\n",
    "    plt.xlim(0, max_len)  # x axis from 0 to max length of data\n",
    "    plt.ylim(0, 0.6)      # y axis from 0 to the maximum value\n",
    "    \n",
    "    # Display the plot\n",
    "    plt.show()"
   ],
   "metadata": {
    "collapsed": false
   },
   "id": "2ed96235be3f8b5",
   "execution_count": null
  },
  {
   "cell_type": "code",
   "outputs": [],
   "source": [
    "count_list = [50, 100, 200, 500, 1000]\n",
    "recalculate_list = [20, 10, 5, 2, 1]\n",
    "name_list = [\"50 × 20\", \"100 × 10\", \"200 × 5\", \"500 × 2\", \"1000 × 1\"]"
   ],
   "metadata": {
    "collapsed": false
   },
   "id": "363a854cdbf84636",
   "execution_count": null
  },
  {
   "cell_type": "code",
   "outputs": [],
   "source": [
    "# 色のリスト\n",
    "colors = [\"red\", \"orange\", \"yellow\", \"green\", \"blue\", \"cyan\", \"purple\", (0.03, 0.18, 0.42), (0.4, 0, 0.4)]\n",
    "\n",
    "for net in net_list:\n",
    "    \n",
    "    plot_list = []\n",
    "    \n",
    "    for count, recalculate in zip(count_list, recalculate_list):\n",
    "        save_path = f\"~/o_t_hayashilab/complex_networks_2024/iteration_μ/{net}/c={count}_re={recalculate}.npy\"\n",
    "        plot_file = np.load(os.path.expanduser(save_path), allow_pickle=True)\n",
    "       \n",
    "        plot_list.append(plot_file)\n",
    "        \n",
    "    # Find the maximum length and the maximum y value for setting xlim and ylim\n",
    "    min_val = min([plot.min() for plot in plot_list])\n",
    "    max_len = max([len(plot.flatten()) for plot in plot_list])  # Max length of lists\n",
    "    max_val = max([plot.max() for plot in plot_list])  # Max value in all lists\n",
    "       \n",
    "    # Plot each list from plot_list\n",
    "    plt.figure(figsize=(10, 6))  # Adjust figure size\n",
    "    for i in range(len(plot_list)):\n",
    "        # Flatten the 2D array into 1D (if needed) and get the x-axis range\n",
    "        y = plot_list[i].flatten()  # Convert 2D array to 1D\n",
    "        x = range(len(y))  # Create x-axis values based on the length of y\n",
    "        \n",
    "        # Plot each set of data with corresponding label and color\n",
    "        plt.plot(x, y, label=f\"{net}:{name_list[i]}\", color=colors[i % len(colors)])\n",
    "    \n",
    "    # Set the title, labels, and legend\n",
    "    plt.xlabel(\"Iterations\")\n",
    "    plt.ylabel(r\"$μ_{2}$\")\n",
    "    plt.legend()\n",
    "    \n",
    "    # Set x and y axis limits\n",
    "    plt.xlim(0, 20)  # x axis from 0 to max length of data\n",
    "    plt.ylim(0, 0.6)      # y axis from 0 to the maximum value\n",
    "    \n",
    "    # Display the plot\n",
    "    plt.show()"
   ],
   "metadata": {
    "collapsed": false
   },
   "id": "e7387eecbd680141",
   "execution_count": null
  },
  {
   "cell_type": "code",
   "outputs": [],
   "source": [
    "plot_list"
   ],
   "metadata": {
    "collapsed": false
   },
   "id": "9b7877d8cf226050",
   "execution_count": null
  },
  {
   "cell_type": "code",
   "outputs": [],
   "source": [],
   "metadata": {
    "collapsed": false
   },
   "id": "35274560a87552da",
   "execution_count": null
  }
 ],
 "metadata": {
  "kernelspec": {
   "display_name": "Python 3",
   "language": "python",
   "name": "python3"
  },
  "language_info": {
   "codemirror_mode": {
    "name": "ipython",
    "version": 2
   },
   "file_extension": ".py",
   "mimetype": "text/x-python",
   "name": "python",
   "nbconvert_exporter": "python",
   "pygments_lexer": "ipython2",
   "version": "2.7.6"
  }
 },
 "nbformat": 4,
 "nbformat_minor": 5
}
